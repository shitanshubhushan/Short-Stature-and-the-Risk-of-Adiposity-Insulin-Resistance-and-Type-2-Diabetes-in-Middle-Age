{
 "cells": [
  {
   "cell_type": "code",
   "execution_count": 89,
   "metadata": {},
   "outputs": [],
   "source": [
    "import pandas as pd\n",
    "import numpy as np\n",
    "import matplotlib.pyplot as plt\n",
    "import statsmodels.api as sm\n",
    "from statsmodels.formula.api import ols, mnlogit\n",
    "from sklearn.impute import SimpleImputer\n",
    "from sklearn.preprocessing import StandardScaler\n",
    "\n",
    "import warnings\n",
    "warnings.filterwarnings('ignore')"
   ]
  },
  {
   "cell_type": "markdown",
   "metadata": {},
   "source": [
    "## Loading the 3 files\n",
    "\n",
    "These files were extracted using SAS Ondemand. \\\n",
    "Using the .dat file and their corresponding .sas code from NHANES website, SAS Ondemand was used to convert the .dat file into a .csv file. \\\n",
    "We are using those converted csv files here."
   ]
  },
  {
   "cell_type": "code",
   "execution_count": 90,
   "metadata": {},
   "outputs": [],
   "source": [
    "# Loading the datasets\n",
    "adult_df = pd.read_csv('data/adult.csv')\n",
    "lab_df = pd.read_csv('data/lab.csv')\n",
    "examination_df = pd.read_csv('data/examination.csv')"
   ]
  },
  {
   "cell_type": "markdown",
   "metadata": {},
   "source": [
    "## Column Selection\n",
    "Going through the paper, we shortlist the columns required from each file for our analysis"
   ]
  },
  {
   "cell_type": "code",
   "execution_count": 91,
   "metadata": {},
   "outputs": [],
   "source": [
    "columns_of_interest_adult = [\n",
    "    'SEQN', #Unique Identifier\n",
    "    'HSAGEIR', #AGE\n",
    "    'HSSEX', #SEX - 1 for Male, 2 for Female\n",
    "    'DMARETHN', #Race/Ethnicity - 1: NH-White; 2: NH-Black; 3: MA; 4: Others\n",
    "    'MXPSESSR', # Session\n",
    "    'WTPFEX6', # Weights\n",
    "    'WTPFQX6', # Weights 2\n",
    "    'HAR1', #Smoking History\n",
    "    'HFF18', #Annual Household income\n",
    "    'HAC5A3', #Mother had Diabetes\n",
    "    'HAC5A4', #Father had Diabetes\n",
    "    'HFA8R', #Education\n",
    "    'HAD1', #Have Diabetes or not\n",
    "    'HAD3',\n",
    "    'HAD4',\n",
    "    'HAD5R', #Age at which diabetes diagnosis\n",
    "    'HAD6', # Taking Insulin or not\n",
    "    'HAT2', # Jog/Run\n",
    "    'HAT2MET', #Intensity Rating\n",
    "    'HAT3S', # Times done in past month\n",
    "    'HAT4', # Bicycle\n",
    "    'HAT4MET', #Intensity Rating\n",
    "    'HAT5S', # Times done in past month\n",
    "    'HAT6', # Swimming\n",
    "    'HAT6MET', #Intensity Rating\n",
    "    'HAT7S', # Times done in past month\n",
    "    'HAT8', # Aerobics\n",
    "    'HAT8MET', #Intensity Rating\n",
    "    'HAT9S', # Times done in past month\n",
    "    'HAT10', # Dancing\n",
    "    'HAT10MET', #Intensity Rating\n",
    "    'HAT11S', # Times done in past month\n",
    "    'HAT12', # Calisthenics\n",
    "    'HAT12MET', #Intensity Rating\n",
    "    'HAT13S', # Times done in past month\n",
    "    'HAT14', # Garden work\n",
    "    'HAT14MET', #Intensity Rating\n",
    "    'HAT15S', # Times done in past month\n",
    "    'HAT16', # Lift weights\n",
    "    'HAT16MET', #Intensity Rating\n",
    "    'HAT17S' # Times done in past month\n",
    "]\n",
    "\n",
    "columns_of_interest_lab = [\n",
    "    'SEQN', #Unique Identifier\n",
    "    'DMPSTAT', # MEC or Home-examined\n",
    "    #'HXPSESSR', # Session - 1: Morning; 2: Afternoon: 3: Evening\n",
    "    'PHPFAST', # Time since last ate\n",
    "    'G1PSI', # Glucose plasma first measurement\n",
    "    'G2PSI', # Glucose plasma second measurement\n",
    "    'G1PCODE', # OGTT\n",
    "    'G1PTIM1', # Time between two measurements\n",
    "    'G1PTIM2',\n",
    "    'I1PSI', # Serum Insulin first measurement\n",
    "    'I2PSI', # Serum Insulin second measurement\n",
    "    'I1P2PFLG', # Instrument used\n",
    "    'G1P',\n",
    "    'I1P'\n",
    "]\n",
    "\n",
    "columns_of_interest_examination = [\n",
    "    'SEQN', #Unique Identifier\n",
    "    'DMPSTAT', #MEC or Home-examined\n",
    "    'BMPBMI', #BMI\n",
    "    'BMPHT', # Standing Height\n",
    "    'BMPSITHT', # Sitting Height\n",
    "    'MAPF12R', # Pregnant : 1-Yes; 2-No\n",
    "    'MYPC17', # Pregnant\n",
    "    'MPPB4', # Age at menarche\n",
    "    'MYPC2', # Age at menarche\n",
    "    'MAPF2', # Age at menarche\n",
    "    'PEPPREG', # Pregnant\n",
    "    'PEPPACE', # Pacemaker\n",
    "    'PEP3B1', # Arm amputee\n",
    "    'PEP3B2', # Leg amputee\n",
    "    'BMPWT', # Weight\n",
    "    'PEP12A1' # Resistance\n",
    "]"
   ]
  },
  {
   "cell_type": "markdown",
   "metadata": {},
   "source": [
    "## Data Cleaning\n",
    "\n",
    "Joining all 3 table on 'SEQN'.\\\n",
    "We remove those subjects that completed physical examination and laboratory test at home. \\\n",
    "We limit the age to 40-74, remove pregnant women, remove 'other' race/ethnicity and remove 55 participants with insulin treated diabetes diagnosed before 40."
   ]
  },
  {
   "cell_type": "code",
   "execution_count": 92,
   "metadata": {},
   "outputs": [
    {
     "data": {
      "text/plain": [
       "(7424, 66)"
      ]
     },
     "execution_count": 92,
     "metadata": {},
     "output_type": "execute_result"
    }
   ],
   "source": [
    "# Keeping only columns that we need\n",
    "adult_df = adult_df.filter(columns_of_interest_adult)\n",
    "lab_df = lab_df.filter(columns_of_interest_lab)\n",
    "examination_df = examination_df.filter(columns_of_interest_examination)\n",
    "\n",
    "# Removing home-examined participants\n",
    "lab_df = lab_df[lab_df['DMPSTAT']!=3].drop(columns='DMPSTAT')\n",
    "examination_df = examination_df[examination_df['DMPSTAT']!=3].drop(columns='DMPSTAT')\n",
    "\n",
    "# Merging the three different files into one dataframe on 'SEQN'\n",
    "merged_df = pd.merge(adult_df, lab_df, on='SEQN', how='inner')\n",
    "merged_df = pd.merge(merged_df, examination_df, on='SEQN', how='inner')\n",
    "\n",
    "# Limiting age to 40-74\n",
    "merged_df = merged_df[(merged_df['HSAGEIR'] >= 40) & (merged_df['HSAGEIR'] <= 74)]\n",
    "\n",
    "# Removing pregnant women\n",
    "merged_df = merged_df[(merged_df['MAPF12R'] != 1)]\n",
    "\n",
    "# Limiting race/ethnicity\n",
    "merged_df = merged_df[(merged_df['DMARETHN'] != 4)]\n",
    "\n",
    "# Removing participants with insulin treated diabetes diagnosed before 40\n",
    "merged_df = merged_df[~((merged_df['HAD5R']<40) & (merged_df['HAD6']==1))]\n",
    "merged_df.shape"
   ]
  },
  {
   "cell_type": "markdown",
   "metadata": {},
   "source": [
    "## Feature Engineering\n",
    "\n",
    "Next we do feature engineering according to how it's specified in the paper"
   ]
  },
  {
   "cell_type": "code",
   "execution_count": 93,
   "metadata": {},
   "outputs": [],
   "source": [
    "#Being vigorously active was defined as participating ≥3 times/wk in an activity with a \n",
    "#metabolic equivalent (MET) level of ≥6 for participants who were aged ≥60 y and 7 for partici- pants who were <60 y. \n",
    "#The term “moderately active” was defined as participating ≥ 5 times/wk in physical activities, ≤ 2 of which were defined as vigorous. \n",
    "#“Lightly active” was defined as participation that was not “vigorously active” or “moderately active.” \n",
    "#“Sedentary” was defined as engaging in no leisure-time physical activity.\n",
    "\n",
    "def classify_physical_activity(row):\n",
    "    # Convert 'Times done in past month' to 'Times done per week'\n",
    "    times_per_week = {\n",
    "        'HAT3S': row['HAT3S'] / 4,\n",
    "        'HAT5S': row['HAT5S'] / 4,\n",
    "        'HAT7S': row['HAT7S'] / 4,\n",
    "        'HAT9S': row['HAT9S'] / 4,\n",
    "        'HAT11S': row['HAT11S'] / 4,\n",
    "        'HAT13S': row['HAT13S'] / 4,\n",
    "        'HAT15S': row['HAT15S'] / 4\n",
    "    }\n",
    "\n",
    "    # Pair up activity columns with their corresponding intensity rating columns\n",
    "    activity_intensity_pairs = [\n",
    "        ('HAT3S', 'HAT2MET'),\n",
    "        ('HAT5S', 'HAT4MET'),\n",
    "        ('HAT7S', 'HAT6MET'),\n",
    "        ('HAT9S', 'HAT8MET'),\n",
    "        ('HAT11S', 'HAT10MET'),\n",
    "        ('HAT13S', 'HAT12MET'),\n",
    "        ('HAT15S', 'HAT14MET')\n",
    "    ]\n",
    "\n",
    "    # Calculate total vigorous activities per week\n",
    "    vigorous_threshold = 7 if row['HSAGEIR'] < 60 else 6\n",
    "    vigorous_activities = sum(times_per_week[activity] for activity, intensity in activity_intensity_pairs if row[intensity] >= vigorous_threshold)\n",
    "\n",
    "    # Calculate total physical activities per week\n",
    "    total_activities = sum(times_per_week.values())\n",
    "\n",
    "    # Classify physical activity level\n",
    "    if vigorous_activities >= 3:\n",
    "        return 'vigorously_active'\n",
    "    elif total_activities >= 5 and vigorous_activities <= 2:\n",
    "        return 'moderately_active'\n",
    "    elif total_activities > 0:\n",
    "        return 'lightly_active'\n",
    "    else:\n",
    "        return 'sedentary'"
   ]
  },
  {
   "cell_type": "code",
   "execution_count": 94,
   "metadata": {},
   "outputs": [],
   "source": [
    "merged_df['PHPFAST'] = merged_df['PHPFAST'].replace(88888, merged_df['PHPFAST'].median())\n",
    "merged_df['G1PSI'] = merged_df['G1PSI'].replace(888888, merged_df['G1PSI'].median())\n",
    "merged_df['G2PSI'] = merged_df['G2PSI'].replace(888888, merged_df['G2PSI'].median())\n",
    "median_value = merged_df['G2PSI'].median()\n",
    "merged_df['G2PSI'] = merged_df['G2PSI'].fillna(median_value)\n",
    "\n",
    "#merged_df['BMPHT'] = merged_df['BMPHT'].replace(88888, merged_df['BMPHT'].median())\n",
    "merged_df['BMPSITHT'] = merged_df['BMPSITHT'].replace(88888, merged_df['BMPSITHT'].median())\n",
    "\n",
    "# Making leg-length column\n",
    "merged_df['leg_length'] = merged_df['BMPHT'] - merged_df['BMPSITHT']\n",
    "\n",
    "#Making leg length to height ratio\n",
    "merged_df['leg_length_to_height_ratio'] = merged_df['leg_length']/merged_df['BMPHT']\n",
    "\n",
    "# map sex\n",
    "merged_df['Sex'] = merged_df['HSSEX'].map({\n",
    "    1: 'Male',\n",
    "    2: 'Female'\n",
    "})\n",
    "\n",
    "# Race/ethnicity was categorized into three groups: non-Hispanic white, non-Hispanic black, and Mexican American.\n",
    "merged_df['race_ethnicity'] = merged_df['DMARETHN'].map({\n",
    "    1: 'non_Hispanic_white',\n",
    "    2: 'non_Hispanic_black',\n",
    "    3: 'Mexican_American'\n",
    "})\n",
    "\n",
    "# Subjects were classified as hav- ing parental history of diabetes if either their biological father or mother had dia- betes\n",
    "merged_df['parental_diabetes'] = (merged_df['HAC5A4'] == 1) | (merged_df['HAC5A3'] == 1)\n",
    "\n",
    "# Physical activity was classified into four categories (vigorously active, moderately active, \n",
    "# lightly active, and sedentary) based on frequency and intensity of reported physical activities \n",
    "columns_to_fill = ['HAT2', 'HAT2MET', 'HAT3S', 'HAT4', 'HAT4MET', 'HAT5S', 'HAT6', 'HAT6MET','HAT7S',\n",
    "                   'HAT8','HAT8MET', 'HAT9S', 'HAT10', 'HAT10MET', 'HAT11S', 'HAT12', 'HAT12MET', 'HAT13S', \n",
    "                   'HAT14','HAT14MET', 'HAT15S', 'HAT16', 'HAT16MET', 'HAT17S']\n",
    "\n",
    "merged_df[columns_to_fill] = merged_df[columns_to_fill].fillna(0)\n",
    "\n",
    "# Apply the classification function to each row of the DataFrame\n",
    "merged_df['physical_activity'] = merged_df.apply(classify_physical_activity, axis=1)\n",
    "\n",
    "# Dichotomize education level at 12 years\n",
    "merged_df['education_12_years'] = merged_df['HFA8R'] >= 12\n",
    "\n",
    "# Annual household income was dichotomized at $20,000\n",
    "merged_df['income_20000_or_more'] = merged_df['HFF18'].map({\n",
    "    1: False, \n",
    "    2: True,\n",
    "    8: False,\n",
    "    9: False,\n",
    "    0: False\n",
    "})\n",
    "\n",
    "# Subjects were classi- fied as “ever smokers” if they reported that they had smoked \n",
    "# at least 100 cigarettes during their lives; otherwise they were classified as “never smokers.”\n",
    "merged_df['smoking_hist'] = merged_df['HAR1'].map({\n",
    "    1: 'ever_smokers',\n",
    "    2: 'never_smokers'\n",
    "})\n",
    "\n",
    "#Calculating weighted measurements\n",
    "merged_df['Weighted_height'] = merged_df['BMPHT']*merged_df['WTPFEX6']\n",
    "merged_df['Weighted_leg_length'] = merged_df['leg_length']*merged_df['WTPFEX6']\n",
    "merged_df['Weighted_ratio'] = merged_df['leg_length_to_height_ratio']*merged_df['WTPFEX6']\n",
    "\n",
    "# Calculate sex and race specific z-scores for height\n",
    "#merged_df['height_z'] = merged_df.groupby(['Sex', 'race_ethnicity'])['BMPHT'].transform(lambda x: (x - merged_df['Weighted_height'].mean()) / merged_df['Weighted_height'].std())\n",
    "\n",
    "# Calculate sex and race specific z-scores for leg length\n",
    "#merged_df['leg_length_z'] = merged_df.groupby(['Sex', 'race_ethnicity'])['leg_length'].transform(lambda x: (x - merged_df['Weighted_leg_length'].mean()) / merged_df['Weighted_leg_length'].std())\n",
    "\n",
    "# Calculate sex and race specific z-scores for leg length to height ratio\n",
    "#merged_df['ratio_z'] = merged_df.groupby(['Sex', 'race_ethnicity'])['leg_length_to_height_ratio'].transform(lambda x: (x - merged_df['Weighted_ratio'].mean()) / merged_df['Weighted_ratio'].std())\n",
    "\n",
    "anthropometric_cols = ['BMPHT', 'leg_length', 'leg_length_to_height_ratio']  # Replace with your column names\n",
    "\n",
    "# Define the grouping variables for sex and race/ethnicity\n",
    "grouping_vars = ['Sex', 'race_ethnicity']  # Replace with your column names\n",
    "\n",
    "# Function to calculate weighted mean and standard deviation\n",
    "def weighted_mean_std(group, weight_col, col):\n",
    "    weights = group[weight_col]\n",
    "    values = group[col]\n",
    "    weighted_mean = np.average(values, weights=weights)\n",
    "    weighted_std = np.sqrt(np.average((values - weighted_mean)**2, weights=weights))\n",
    "    return weighted_mean, weighted_std\n",
    "\n",
    "# Calculate weighted z-scores for each anthropometric measurement\n",
    "for col in anthropometric_cols:\n",
    "    z_score_col = f'{col}_z_score'\n",
    "    merged_df[z_score_col] = 0.0  # Initialize z-score column with zeros\n",
    "    \n",
    "    for _, group in merged_df.groupby(grouping_vars):\n",
    "        weight_col = 'WTPFEX6'  # Replace with your sample weight column name\n",
    "        weighted_mean, weighted_std = weighted_mean_std(group, weight_col, col)\n",
    "        group[z_score_col] = (group[col] - weighted_mean) / weighted_std\n",
    "        \n",
    "        merged_df.loc[group.index, z_score_col] = group[z_score_col]"
   ]
  },
  {
   "cell_type": "markdown",
   "metadata": {},
   "source": [
    "## Adiposity\n",
    "\n",
    "Here we will remove all those subjects for whom we can't calculate % body fat. \\\n",
    "Next we will calculate Fat Free Mass and use it for calculation of % body fat."
   ]
  },
  {
   "cell_type": "code",
   "execution_count": 95,
   "metadata": {},
   "outputs": [],
   "source": [
    "# Function to convert Valhalla resistance to RJL resistance\n",
    "def convert_valh(row):\n",
    "    if row['Sex'] == 'Male':\n",
    "        rjl = 2.5 + 0.98*row['PEP12A1']\n",
    "    elif row['Sex'] == 'Female':\n",
    "        rjl = 9.6 + 0.96*row['PEP12A1']\n",
    "    else:\n",
    "        rjl = np.nan\n",
    "    return rjl"
   ]
  },
  {
   "cell_type": "code",
   "execution_count": 96,
   "metadata": {},
   "outputs": [],
   "source": [
    "# Function to calculate fat free mass\n",
    "def calculate_ffm(row):\n",
    "    if row['Sex'] == 'Male':\n",
    "        ffm = (-10.678 + 0.262 * row['BMPWT'] + 0.652 * (row['BMPHT']**2/row['RJL']) + 0.015 * row['RJL'])\n",
    "    elif row['Sex'] == 'Female':\n",
    "        ffm = (-9.529 + 0.168 * row['BMPWT'] + 0.696 * (row['BMPHT']**2/row['RJL']) + 0.016 * row['RJL'])\n",
    "    else:\n",
    "        ffm = np.nan\n",
    "    return ffm"
   ]
  },
  {
   "cell_type": "code",
   "execution_count": 97,
   "metadata": {},
   "outputs": [],
   "source": [
    "adiposity_df = merged_df[~((merged_df['PEP12A1'].isna()) | \n",
    "                           (merged_df['PEP12A1']==8888) | \n",
    "                           (merged_df['BMPWT']==888888) | \n",
    "                           (merged_df['BMPHT'].isna()) | \n",
    "                           (merged_df['BMPHT']==88888)\n",
    "                           )\n",
    "                        ]\n",
    "\n",
    "# Calculating rjl resistance \n",
    "adiposity_df['RJL'] = adiposity_df.apply(convert_valh, axis=1)\n",
    "\n",
    "# Calculating Fat Free Mass\n",
    "adiposity_df['FFM'] = adiposity_df.apply(calculate_ffm, axis=1)\n",
    "\n",
    "# Calculating % body fat\n",
    "adiposity_df['PBF'] =((adiposity_df['BMPWT'] - adiposity_df['FFM'])/(adiposity_df['BMPWT']))*100"
   ]
  },
  {
   "cell_type": "code",
   "execution_count": 98,
   "metadata": {},
   "outputs": [
    {
     "data": {
      "text/plain": [
       "(6778, 84)"
      ]
     },
     "execution_count": 98,
     "metadata": {},
     "output_type": "execute_result"
    }
   ],
   "source": [
    "adiposity_df.shape"
   ]
  },
  {
   "cell_type": "markdown",
   "metadata": {},
   "source": [
    "## HOMA-IR"
   ]
  },
  {
   "cell_type": "code",
   "execution_count": 99,
   "metadata": {},
   "outputs": [],
   "source": [
    "def keepforHOMA(row):\n",
    "    if row['MXPSESSR'] == 1:\n",
    "        if row['PHPFAST'] >= 12 and (3.0 <= row['G1PSI'] <= 25.0) and (20.0 <= row['I1PSI'] <= 400.0):\n",
    "            return 1\n",
    "    elif row['MXPSESSR'] == 2 or row['MXPSESSR'] == 3:\n",
    "        if row['PHPFAST'] >= 6 and (3.0 <= row['G1PSI'] <= 25.0) and (20.0 <= row['I1PSI'] <= 400.0):\n",
    "            return 1\n",
    "    else:\n",
    "        return 0\n",
    "    return 0"
   ]
  },
  {
   "cell_type": "code",
   "execution_count": 100,
   "metadata": {},
   "outputs": [],
   "source": [
    "# Removing those who have diabetes\n",
    "HOMA_df = adiposity_df[~((adiposity_df['HAD1']==1))]\n",
    "\n",
    "# Removing NULLs and 'Blank but applicable'\n",
    "HOMA_df = HOMA_df[~((HOMA_df['PHPFAST']==88888) | (HOMA_df['PHPFAST'].isna()))]\n",
    "HOMA_df = HOMA_df[~((HOMA_df['G1PSI']==888888) | (HOMA_df['G1PSI'].isna()))]\n",
    "HOMA_df = HOMA_df[~((HOMA_df['G2PSI']==888888) | (HOMA_df['G2PSI'].isna()))]\n",
    "HOMA_df = HOMA_df[~((HOMA_df['I1PSI']==8888888) | (HOMA_df['I1PSI'].isna()))]\n",
    "\n",
    "# Flag to mark which rows to keep and then drop other rows\n",
    "HOMA_df['keepforHOMA'] = HOMA_df.apply(keepforHOMA, axis=1)\n",
    "HOMA_df = HOMA_df[HOMA_df['keepforHOMA']==1]\n",
    "\n",
    "# Calculating HOMA-IR for all subjects\n",
    "HOMA_df['HOMA_IR'] = (HOMA_df['G1PSI']*(HOMA_df['I1PSI']/6))/22.5"
   ]
  },
  {
   "cell_type": "code",
   "execution_count": 101,
   "metadata": {},
   "outputs": [],
   "source": [
    "homa_test = HOMA_df[['HSAGEIR','Sex','race_ethnicity','parental_diabetes',\n",
    "         'physical_activity','education_12_years','income_20000_or_more',\n",
    "         'smoking_hist','MAPF2','PBF','BMPHT','leg_length','leg_length_to_height_ratio','G1PSI','I1PSI',\n",
    "         'BMPHT_z_score','leg_length_z_score','leg_length_to_height_ratio_z_score']]"
   ]
  },
  {
   "cell_type": "code",
   "execution_count": 102,
   "metadata": {},
   "outputs": [],
   "source": [
    "homa_test.to_csv('homa_new.csv')"
   ]
  },
  {
   "cell_type": "code",
   "execution_count": 103,
   "metadata": {},
   "outputs": [],
   "source": [
    "HOMA_df = pd.read_csv('homa_Final.csv')"
   ]
  },
  {
   "cell_type": "markdown",
   "metadata": {},
   "source": [
    "## OGTT"
   ]
  },
  {
   "cell_type": "code",
   "execution_count": 104,
   "metadata": {},
   "outputs": [],
   "source": [
    "def fastorbldsmpl(row):\n",
    "    if row['MXPSESSR'] == 1:\n",
    "        if row['PHPFAST'] >= 12 and (105.0 <= row['G1PTIM1'] <= 135.0):\n",
    "            return 1\n",
    "    elif row['MXPSESSR'] == 2 or row['MXPSESSR'] == 3:\n",
    "        if row['PHPFAST'] >= 6 and (105.0 <= row['G1PTIM1'] <= 135.0):\n",
    "            return 1\n",
    "    return 0 "
   ]
  },
  {
   "cell_type": "code",
   "execution_count": 105,
   "metadata": {},
   "outputs": [],
   "source": [
    "# def category(row):\n",
    "#     G1PSI_rounded = round(row['G1PSI'], 1)\n",
    "#     G2PSI_rounded = round(row['G2PSI'], 1)\n",
    "\n",
    "#     if row['MXPSESSR'] == 1:\n",
    "#         if G1PSI_rounded < 7.8 and G2PSI_rounded < 7.8:\n",
    "#             return 'normal'\n",
    "#         elif G1PSI_rounded < 7.8 and (7.8 <= G2PSI_rounded <= 11.1):\n",
    "#             return 'IGT'\n",
    "#         elif G1PSI_rounded >= 7.8 or G2PSI_rounded >= 11.1:\n",
    "#             return 'diabetes'\n",
    "#         else:\n",
    "#             return 'Not Valid'\n",
    "#     else:\n",
    "#         if G1PSI_rounded < 7.8 and G2PSI_rounded < 7.8:\n",
    "#             return 'normal'\n",
    "#         elif G1PSI_rounded < 7.8 and (7.8 <= G2PSI_rounded <= 13.9):\n",
    "#             return 'IGT'\n",
    "#         elif G1PSI_rounded >= 7.8 or G2PSI_rounded >= 13.9:\n",
    "#             return 'diabetes'\n",
    "#         else:\n",
    "#             return 'Not Valid'"
   ]
  },
  {
   "cell_type": "code",
   "execution_count": 106,
   "metadata": {},
   "outputs": [],
   "source": [
    "def category(row):\n",
    "    G1PSI_rounded = round(row['G1PSI'], 1)\n",
    "    G2PSI_rounded = round(row['G2PSI'], 1)\n",
    "\n",
    "    if row['MXPSESSR'] == 1:\n",
    "        if G1PSI_rounded < 7.8 and G2PSI_rounded < 7.8:\n",
    "            return 'normal'\n",
    "        elif G1PSI_rounded < 7.8 and G2PSI_rounded <= 11.1:\n",
    "            return 'IGT'\n",
    "        elif G1PSI_rounded >= 7.8 or G2PSI_rounded >= 11.1:\n",
    "            return 'diabetes'\n",
    "        else:\n",
    "            return 'Not Valid'\n",
    "    else:\n",
    "        if G1PSI_rounded < 7.8 and G2PSI_rounded < 7.8:\n",
    "            return 'normal'\n",
    "        elif G1PSI_rounded < 7.8 and G2PSI_rounded <= 13.9:\n",
    "            return 'IGT'\n",
    "        elif G1PSI_rounded >= 7.8 or G2PSI_rounded >= 13.9:\n",
    "            return 'diabetes'\n",
    "        else:\n",
    "            return 'Not Valid'"
   ]
  },
  {
   "cell_type": "code",
   "execution_count": 107,
   "metadata": {},
   "outputs": [],
   "source": [
    "# Removing those who had diabetes\n",
    "ogtt_df = merged_df[~(((merged_df['HAD1']==1) & (merged_df['HAD3']!=1)) | ((merged_df['HAD1']==1) & (merged_df['HAD4']==1)))]\n",
    "\n",
    "# Removing those who did not complete OGTT\n",
    "ogtt_df = ogtt_df[ogtt_df['G1PCODE'].isna()]\n",
    "\n",
    "# Removing those who did not fast or blood samole not drawn in time\n",
    "ogtt_df['keepigt'] = ogtt_df.apply(fastorbldsmpl,axis=1)\n",
    "ogtt_df = ogtt_df[ogtt_df['keepigt']==1]\n",
    "\n",
    "# Classifying into category\n",
    "ogtt_df['GT_Category'] = ogtt_df.apply(category, axis=1)\n",
    "\n",
    "# Merginf with those who have diabetes\n",
    "diabetes_df = merged_df[(((merged_df['HAD1']==1) & (merged_df['HAD3']!=1)) | ((merged_df['HAD1']==1) & (merged_df['HAD4']==1)))]\n",
    "diabetes_df['keepigt'] = 1\n",
    "diabetes_df['GT_Category'] = 'diabetes'\n",
    "ogtt_df = pd.concat([ogtt_df, diabetes_df], axis=0, ignore_index=True)\n",
    "\n",
    "ogtt_df = ogtt_df[~(ogtt_df['BMPHT']==88888)]\n",
    "ogtt_df = ogtt_df[~(ogtt_df['GT_Category']=='Not Valid')]"
   ]
  },
  {
   "cell_type": "markdown",
   "metadata": {},
   "source": [
    "# Statistical Analysis"
   ]
  },
  {
   "cell_type": "markdown",
   "metadata": {},
   "source": [
    "## Percentage Body Fat\n",
    "We will use multivariate linear regression\n",
    "## Female"
   ]
  },
  {
   "cell_type": "code",
   "execution_count": 177,
   "metadata": {},
   "outputs": [],
   "source": [
    "subset_df = adiposity_df[adiposity_df['Sex']=='Female']\n",
    "\n",
    "target = subset_df['PBF']\n",
    "\n",
    "subset_df['MAPF2'] = subset_df['MAPF2'].fillna(0)\n",
    "\n",
    "#std_devs = subset_df[['BMPHT','leg_length','leg_length_to_height_ratio']].std()\n",
    "\n",
    "std_devs = subset_df[['BMPHT_z_score','leg_length_z_score','leg_length_to_height_ratio_z_score']].std()"
   ]
  },
  {
   "cell_type": "markdown",
   "metadata": {},
   "source": [
    "## Height"
   ]
  },
  {
   "cell_type": "markdown",
   "metadata": {},
   "source": [
    "### Model 1"
   ]
  },
  {
   "cell_type": "code",
   "execution_count": 113,
   "metadata": {},
   "outputs": [
    {
     "name": "stdout",
     "output_type": "stream",
     "text": [
      "\n",
      "1-SD lower comparison for each variable with confidence intervals in the Basic model:\n",
      "BMPHT_z_score: 0.7971 change in percent body fat for 1-SD lower\n",
      "    95% CI: [1.1712, 0.4229]\n",
      "+0.80 (0.42-1.17)\n"
     ]
    }
   ],
   "source": [
    "anthropometric_measures = ['BMPHT_z_score']\n",
    "model = ols('target ~ BMPHT_z_score+HSAGEIR',data=subset_df).fit()\n",
    "\n",
    "# Calculate 1-SD lower comparison for each variable in the model\n",
    "print(f\"\\n1-SD lower comparison for each variable with confidence intervals in the Basic model:\")\n",
    "\n",
    "# Iterate through each predictor\n",
    "for predictor in anthropometric_measures:\n",
    "# Coefficient for the predictor\n",
    "    coef = model.params[predictor]\n",
    "    \n",
    "    # Standard deviation of the predictor\n",
    "    std_dev = std_devs[predictor] if predictor in std_devs else 0\n",
    "    \n",
    "    # Calculate the effect of a 1-SD decrease in the predictor\n",
    "    BMPHT_female_effect_model1 = coef * (-std_dev)\n",
    "    \n",
    "    # Calculate the confidence intervals for the 1-SD lower comparison\n",
    "    ci_df = model.conf_int()  # Get the confidence interval DataFrame\n",
    "    \n",
    "    # Access the lower and upper bounds of the predictor's confidence interval\n",
    "    if predictor in ci_df.index:\n",
    "        BMPHT_female_lower_ci_model1 = ci_df.loc[predictor, 0] * (-std_dev)\n",
    "        BMPHT_female_upper_ci_model1 = ci_df.loc[predictor, 1] * (-std_dev)\n",
    "        \n",
    "        # Print the effect and confidence intervals\n",
    "        print(f\"{predictor}: {BMPHT_female_effect_model1:.4f} change in percent body fat for 1-SD lower\")\n",
    "        print(f\"    95% CI: [{BMPHT_female_lower_ci_model1:.4f}, {BMPHT_female_upper_ci_model1:.4f}]\")\n",
    "    else:\n",
    "        print(f\"Predictor '{predictor}' not found in the model confidence intervals.\")\n",
    "\n",
    "    sign = \"+\" if BMPHT_female_effect_model1 >= 0 else \"\"\n",
    "    height_female_model1 = f\"{sign}{abs(BMPHT_female_effect_model1):.2f} ({BMPHT_female_upper_ci_model1:.2f}-{BMPHT_female_lower_ci_model1:.2f})\"\n",
    "    print(height_female_model1)"
   ]
  },
  {
   "cell_type": "markdown",
   "metadata": {},
   "source": [
    "### Model 2"
   ]
  },
  {
   "cell_type": "code",
   "execution_count": 114,
   "metadata": {},
   "outputs": [
    {
     "name": "stdout",
     "output_type": "stream",
     "text": [
      "\n",
      "1-SD lower comparison for each variable with confidence intervals in the Basic model:\n",
      "BMPHT_z_score: 0.6019 change in percent body fat for 1-SD lower\n",
      "    95% CI: [0.9695, 0.2343]\n",
      "+0.60 (0.23-0.97)\n"
     ]
    }
   ],
   "source": [
    "model = ols('target ~ BMPHT_z_score+HSAGEIR+parental_diabetes+physical_activity+education_12_years+income_20000_or_more+smoking_hist+MAPF2',data=subset_df).fit()\n",
    "\n",
    "# Calculate 1-SD lower comparison for each variable in the model\n",
    "print(f\"\\n1-SD lower comparison for each variable with confidence intervals in the Basic model:\")\n",
    "\n",
    "# Iterate through each predictor\n",
    "for predictor in anthropometric_measures:\n",
    "# Coefficient for the predictor\n",
    "    coef = model.params[predictor]\n",
    "    \n",
    "    # Standard deviation of the predictor\n",
    "    std_dev = std_devs[predictor] if predictor in std_devs else 0\n",
    "    \n",
    "    # Calculate the effect of a 1-SD decrease in the predictor\n",
    "    BMPHT_female_effect_model2 = coef * (-std_dev)\n",
    "    \n",
    "    # Calculate the confidence intervals for the 1-SD lower comparison\n",
    "    ci_df = model.conf_int()  # Get the confidence interval DataFrame\n",
    "    \n",
    "    # Access the lower and upper bounds of the predictor's confidence interval\n",
    "    if predictor in ci_df.index:\n",
    "        BMPHT_female_lower_ci_model2 = ci_df.loc[predictor, 0] * (-std_dev)\n",
    "        BMPHT_female_upper_ci_model2 = ci_df.loc[predictor, 1] * (-std_dev)\n",
    "        \n",
    "        # Print the effect and confidence intervals\n",
    "        print(f\"{predictor}: {BMPHT_female_effect_model2:.4f} change in percent body fat for 1-SD lower\")\n",
    "        print(f\"    95% CI: [{BMPHT_female_lower_ci_model2:.4f}, {BMPHT_female_upper_ci_model2:.4f}]\")\n",
    "    else:\n",
    "        print(f\"Predictor '{predictor}' not found in the model confidence intervals.\")\n",
    "\n",
    "    sign = \"+\" if BMPHT_female_effect_model2 >= 0 else \"\"\n",
    "    height_female_model2 = f\"{sign}{abs(BMPHT_female_effect_model2):.2f} ({BMPHT_female_upper_ci_model2:.2f}-{BMPHT_female_lower_ci_model2:.2f})\"\n",
    "    print(height_female_model2)"
   ]
  },
  {
   "cell_type": "code",
   "execution_count": 115,
   "metadata": {},
   "outputs": [],
   "source": [
    "height_female_model3 = '-'"
   ]
  },
  {
   "cell_type": "markdown",
   "metadata": {},
   "source": [
    "## Leg Length"
   ]
  },
  {
   "cell_type": "markdown",
   "metadata": {},
   "source": [
    "### Model 1"
   ]
  },
  {
   "cell_type": "code",
   "execution_count": 116,
   "metadata": {},
   "outputs": [
    {
     "name": "stdout",
     "output_type": "stream",
     "text": [
      "\n",
      "1-SD lower comparison for each variable with confidence intervals in the Basic model:\n",
      "leg_length_z_score: 1.0789 change in percent body fat for 1-SD lower\n",
      "    95% CI: [1.4515, 0.7062]\n",
      "+1.08 (0.71-1.45)\n"
     ]
    }
   ],
   "source": [
    "anthropometric_measures = ['leg_length_z_score']\n",
    "model = ols('target ~ leg_length_z_score+HSAGEIR',data=subset_df).fit()\n",
    "\n",
    "# Calculate 1-SD lower comparison for each variable in the model\n",
    "print(f\"\\n1-SD lower comparison for each variable with confidence intervals in the Basic model:\")\n",
    "\n",
    "# Iterate through each predictor\n",
    "for predictor in anthropometric_measures:\n",
    "# Coefficient for the predictor\n",
    "    coef = model.params[predictor]\n",
    "    \n",
    "    # Standard deviation of the predictor\n",
    "    std_dev = std_devs[predictor] if predictor in std_devs else 0\n",
    "    \n",
    "    # Calculate the effect of a 1-SD decrease in the predictor\n",
    "    leg_length_female_effect_model1 = coef * (-std_dev)\n",
    "    \n",
    "    # Calculate the confidence intervals for the 1-SD lower comparison\n",
    "    ci_df = model.conf_int()  # Get the confidence interval DataFrame\n",
    "    \n",
    "    # Access the lower and upper bounds of the predictor's confidence interval\n",
    "    if predictor in ci_df.index:\n",
    "        leg_length_female_lower_ci_model1 = ci_df.loc[predictor, 0] * (-std_dev)\n",
    "        leg_length_female_upper_ci_model1 = ci_df.loc[predictor, 1] * (-std_dev)\n",
    "        \n",
    "        # Print the effect and confidence intervals\n",
    "        print(f\"{predictor}: {leg_length_female_effect_model1:.4f} change in percent body fat for 1-SD lower\")\n",
    "        print(f\"    95% CI: [{leg_length_female_lower_ci_model1:.4f}, {leg_length_female_upper_ci_model1:.4f}]\")\n",
    "    else:\n",
    "        print(f\"Predictor '{predictor}' not found in the model confidence intervals.\")\n",
    "    \n",
    "    sign = \"+\" if leg_length_female_effect_model1 >= 0 else \"\"\n",
    "    leg_length_female_model1 = f\"{sign}{abs(leg_length_female_effect_model1):.2f} ({leg_length_female_upper_ci_model1:.2f}-{leg_length_female_lower_ci_model1:.2f})\"\n",
    "    print(leg_length_female_model1)"
   ]
  },
  {
   "cell_type": "markdown",
   "metadata": {},
   "source": [
    "### Model 2"
   ]
  },
  {
   "cell_type": "code",
   "execution_count": 117,
   "metadata": {},
   "outputs": [
    {
     "name": "stdout",
     "output_type": "stream",
     "text": [
      "\n",
      "1-SD lower comparison for each variable with confidence intervals in the Basic model:\n",
      "leg_length_z_score: 0.8592 change in percent body fat for 1-SD lower\n",
      "    95% CI: [1.2263, 0.4920]\n",
      "+0.86 (0.49-1.23)\n"
     ]
    }
   ],
   "source": [
    "model = ols('target ~ leg_length_z_score+HSAGEIR+parental_diabetes+physical_activity+education_12_years+income_20000_or_more+smoking_hist+MAPF2',data=subset_df).fit()\n",
    "\n",
    "# Calculate 1-SD lower comparison for each variable in the model\n",
    "print(f\"\\n1-SD lower comparison for each variable with confidence intervals in the Basic model:\")\n",
    "\n",
    "# Iterate through each predictor\n",
    "for predictor in anthropometric_measures:\n",
    "# Coefficient for the predictor\n",
    "    coef = model.params[predictor]\n",
    "    \n",
    "    # Standard deviation of the predictor\n",
    "    std_dev = std_devs[predictor] if predictor in std_devs else 0\n",
    "    \n",
    "    # Calculate the effect of a 1-SD decrease in the predictor\n",
    "    leg_length_female_effect_model2 = coef * (-std_dev)\n",
    "    \n",
    "    # Calculate the confidence intervals for the 1-SD lower comparison\n",
    "    ci_df = model.conf_int()  # Get the confidence interval DataFrame\n",
    "    \n",
    "    # Access the lower and upper bounds of the predictor's confidence interval\n",
    "    if predictor in ci_df.index:\n",
    "        leg_length_female_lower_ci_model2 = ci_df.loc[predictor, 0] * (-std_dev)\n",
    "        leg_length_female_upper_ci_model2 = ci_df.loc[predictor, 1] * (-std_dev)\n",
    "        \n",
    "        # Print the effect and confidence intervals\n",
    "        print(f\"{predictor}: {leg_length_female_effect_model2:.4f} change in percent body fat for 1-SD lower\")\n",
    "        print(f\"    95% CI: [{leg_length_female_lower_ci_model2:.4f}, {leg_length_female_upper_ci_model2:.4f}]\")\n",
    "    else:\n",
    "        print(f\"Predictor '{predictor}' not found in the model confidence intervals.\")\n",
    "    \n",
    "    sign = \"+\" if leg_length_female_effect_model2 >= 0 else \"\"\n",
    "    leg_length_female_model2 = f\"{sign}{abs(leg_length_female_effect_model2):.2f} ({leg_length_female_upper_ci_model2:.2f}-{leg_length_female_lower_ci_model2:.2f})\"\n",
    "    print(leg_length_female_model2)"
   ]
  },
  {
   "cell_type": "code",
   "execution_count": 118,
   "metadata": {},
   "outputs": [],
   "source": [
    "leg_length_female_model3 = '-'"
   ]
  },
  {
   "cell_type": "markdown",
   "metadata": {},
   "source": [
    "## Leg Length To Height Ratio"
   ]
  },
  {
   "cell_type": "markdown",
   "metadata": {},
   "source": [
    "### Model 1"
   ]
  },
  {
   "cell_type": "code",
   "execution_count": 119,
   "metadata": {},
   "outputs": [
    {
     "name": "stdout",
     "output_type": "stream",
     "text": [
      "\n",
      "1-SD lower comparison for each variable with confidence intervals in the Basic model:\n",
      "leg_length_to_height_ratio_z_score: 1.1075 change in percent body fat for 1-SD lower\n",
      "    95% CI: [1.4499, 0.7652]\n",
      "+1.11 (0.77-1.45)\n"
     ]
    }
   ],
   "source": [
    "anthropometric_measures = ['leg_length_to_height_ratio_z_score']\n",
    "model = ols('target ~ leg_length_to_height_ratio_z_score+HSAGEIR',data=subset_df).fit()\n",
    "\n",
    "# Calculate 1-SD lower comparison for each variable in the model\n",
    "print(f\"\\n1-SD lower comparison for each variable with confidence intervals in the Basic model:\")\n",
    "\n",
    "# Iterate through each predictor\n",
    "for predictor in anthropometric_measures:\n",
    "# Coefficient for the predictor\n",
    "    coef = model.params[predictor]\n",
    "    \n",
    "    # Standard deviation of the predictor\n",
    "    std_dev = std_devs[predictor] if predictor in std_devs else 0\n",
    "    \n",
    "    # Calculate the effect of a 1-SD decrease in the predictor\n",
    "    leg_length_to_height_ratio_female_effect_model1 = coef * (-std_dev)\n",
    "    \n",
    "    # Calculate the confidence intervals for the 1-SD lower comparison\n",
    "    ci_df = model.conf_int()  # Get the confidence interval DataFrame\n",
    "    \n",
    "    # Access the lower and upper bounds of the predictor's confidence interval\n",
    "    if predictor in ci_df.index:\n",
    "        leg_length_to_height_ratio_female_lower_ci_model1 = ci_df.loc[predictor, 0] * (-std_dev)\n",
    "        lleg_length_to_height_ratio_female_upper_ci_model1 = ci_df.loc[predictor, 1] * (-std_dev)\n",
    "        \n",
    "        # Print the effect and confidence intervals\n",
    "        print(f\"{predictor}: {leg_length_to_height_ratio_female_effect_model1:.4f} change in percent body fat for 1-SD lower\")\n",
    "        print(f\"    95% CI: [{leg_length_to_height_ratio_female_lower_ci_model1:.4f}, {lleg_length_to_height_ratio_female_upper_ci_model1:.4f}]\")\n",
    "    else:\n",
    "        print(f\"Predictor '{predictor}' not found in the model confidence intervals.\")\n",
    "    \n",
    "    sign = \"+\" if leg_length_to_height_ratio_female_effect_model1 >= 0 else \"\"\n",
    "    ratio_female_model1 = f\"{sign}{abs(leg_length_to_height_ratio_female_effect_model1):.2f} ({lleg_length_to_height_ratio_female_upper_ci_model1:.2f}-{leg_length_to_height_ratio_female_lower_ci_model1:.2f})\"\n",
    "    print(ratio_female_model1)"
   ]
  },
  {
   "cell_type": "markdown",
   "metadata": {},
   "source": [
    "### Model 2"
   ]
  },
  {
   "cell_type": "code",
   "execution_count": 120,
   "metadata": {},
   "outputs": [
    {
     "name": "stdout",
     "output_type": "stream",
     "text": [
      "\n",
      "1-SD lower comparison for each variable with confidence intervals in the Basic model:\n",
      "leg_length_to_height_ratio_z_score: 0.9799 change in percent body fat for 1-SD lower\n",
      "    95% CI: [1.3157, 0.6440]\n",
      "+0.98 (0.64-1.32)\n"
     ]
    }
   ],
   "source": [
    "model = ols('target ~ leg_length_to_height_ratio_z_score+HSAGEIR+parental_diabetes+physical_activity+education_12_years+income_20000_or_more+smoking_hist+MAPF2',data=subset_df).fit()\n",
    "\n",
    "# Calculate 1-SD lower comparison for each variable in the model\n",
    "print(f\"\\n1-SD lower comparison for each variable with confidence intervals in the Basic model:\")\n",
    "\n",
    "# Iterate through each predictor\n",
    "for predictor in anthropometric_measures:\n",
    "# Coefficient for the predictor\n",
    "    coef = model.params[predictor]\n",
    "    \n",
    "    # Standard deviation of the predictor\n",
    "    std_dev = std_devs[predictor] if predictor in std_devs else 0\n",
    "    \n",
    "    # Calculate the effect of a 1-SD decrease in the predictor\n",
    "    leg_length_to_height_ratio_female_effect_model2 = coef * (-std_dev)\n",
    "    \n",
    "    # Calculate the confidence intervals for the 1-SD lower comparison\n",
    "    ci_df = model.conf_int()  # Get the confidence interval DataFrame\n",
    "    \n",
    "    # Access the lower and upper bounds of the predictor's confidence interval\n",
    "    if predictor in ci_df.index:\n",
    "        leg_length_to_height_ratio_female_lower_ci_model2 = ci_df.loc[predictor, 0] * (-std_dev)\n",
    "        leg_length_to_height_ratio_female_upper_ci_model2 = ci_df.loc[predictor, 1] * (-std_dev)\n",
    "        \n",
    "        # Print the effect and confidence intervals\n",
    "        print(f\"{predictor}: {leg_length_to_height_ratio_female_effect_model2:.4f} change in percent body fat for 1-SD lower\")\n",
    "        print(f\"    95% CI: [{leg_length_to_height_ratio_female_lower_ci_model2:.4f}, {leg_length_to_height_ratio_female_upper_ci_model2:.4f}]\")\n",
    "    else:\n",
    "        print(f\"Predictor '{predictor}' not found in the model confidence intervals.\")\n",
    "    \n",
    "    sign = \"+\" if leg_length_to_height_ratio_female_effect_model2 >= 0 else \"\"\n",
    "    ratio_female_model2 = f\"{sign}{abs(leg_length_to_height_ratio_female_effect_model2):.2f} ({leg_length_to_height_ratio_female_upper_ci_model2:.2f}-{leg_length_to_height_ratio_female_lower_ci_model2:.2f})\"\n",
    "    print(ratio_female_model2)"
   ]
  },
  {
   "cell_type": "code",
   "execution_count": 121,
   "metadata": {},
   "outputs": [],
   "source": [
    "ratio_female_model3 = '-'"
   ]
  },
  {
   "cell_type": "markdown",
   "metadata": {},
   "source": [
    "## MALE"
   ]
  },
  {
   "cell_type": "code",
   "execution_count": 122,
   "metadata": {},
   "outputs": [],
   "source": [
    "subset_df = adiposity_df[adiposity_df['Sex']=='Male']\n",
    "\n",
    "target = subset_df['PBF']\n",
    "\n",
    "subset_df['MAPF2'] = subset_df['MAPF2'].fillna(0)\n",
    "\n",
    "#std_devs = subset_df[['BMPHT','leg_length','leg_length_to_height_ratio']].std()\n",
    "\n",
    "std_devs = subset_df[['BMPHT_z_score','leg_length_z_score','leg_length_to_height_ratio_z_score']].std()"
   ]
  },
  {
   "cell_type": "markdown",
   "metadata": {},
   "source": [
    "## Height"
   ]
  },
  {
   "cell_type": "markdown",
   "metadata": {},
   "source": [
    "### Model 1"
   ]
  },
  {
   "cell_type": "code",
   "execution_count": 123,
   "metadata": {},
   "outputs": [
    {
     "name": "stdout",
     "output_type": "stream",
     "text": [
      "\n",
      "1-SD lower comparison for each variable with confidence intervals in the Basic model:\n",
      "BMPHT_z_score: 0.1801 change in percent body fat for 1-SD lower\n",
      "    95% CI: [0.3802, -0.0201]\n",
      "+0.18 (-0.02-0.38)\n"
     ]
    }
   ],
   "source": [
    "anthropometric_measures = ['BMPHT_z_score']\n",
    "model = ols('target ~ BMPHT_z_score+HSAGEIR',data=subset_df).fit()\n",
    "\n",
    "# Calculate 1-SD lower comparison for each variable in the model\n",
    "print(f\"\\n1-SD lower comparison for each variable with confidence intervals in the Basic model:\")\n",
    "\n",
    "# Iterate through each predictor\n",
    "for predictor in anthropometric_measures:\n",
    "# Coefficient for the predictor\n",
    "    coef = model.params[predictor]\n",
    "    \n",
    "    # Standard deviation of the predictor\n",
    "    std_dev = std_devs[predictor] if predictor in std_devs else 0\n",
    "    \n",
    "    # Calculate the effect of a 1-SD decrease in the predictor\n",
    "    BMPHT_male_effect_model1 = coef * (-std_dev)\n",
    "    \n",
    "    # Calculate the confidence intervals for the 1-SD lower comparison\n",
    "    ci_df = model.conf_int()  # Get the confidence interval DataFrame\n",
    "    \n",
    "    # Access the lower and upper bounds of the predictor's confidence interval\n",
    "    if predictor in ci_df.index:\n",
    "        BMPHT_male_lower_ci_model1 = ci_df.loc[predictor, 0] * (-std_dev)\n",
    "        BMPHT_male_upper_ci_model1 = ci_df.loc[predictor, 1] * (-std_dev)\n",
    "        \n",
    "        # Print the effect and confidence intervals\n",
    "        print(f\"{predictor}: {BMPHT_male_effect_model1:.4f} change in percent body fat for 1-SD lower\")\n",
    "        print(f\"    95% CI: [{BMPHT_male_lower_ci_model1:.4f}, {BMPHT_male_upper_ci_model1:.4f}]\")\n",
    "    else:\n",
    "        print(f\"Predictor '{predictor}' not found in the model confidence intervals.\")\n",
    "    \n",
    "    sign = \"+\" if BMPHT_male_effect_model1 >= 0 else \"\"\n",
    "    height_male_model1 = f\"{sign}{abs(BMPHT_male_effect_model1):.2f} ({BMPHT_male_upper_ci_model1:.2f}-{BMPHT_male_lower_ci_model1:.2f})\"\n",
    "    print(height_male_model1)"
   ]
  },
  {
   "cell_type": "markdown",
   "metadata": {},
   "source": [
    "### Model 2"
   ]
  },
  {
   "cell_type": "code",
   "execution_count": 124,
   "metadata": {},
   "outputs": [
    {
     "name": "stdout",
     "output_type": "stream",
     "text": [
      "\n",
      "1-SD lower comparison for each variable with confidence intervals in the Basic model:\n",
      "BMPHT_z_score: 0.1472 change in percent body fat for 1-SD lower\n",
      "    95% CI: [0.3466, -0.0522]\n",
      "+0.15 (-0.05-0.35)\n"
     ]
    }
   ],
   "source": [
    "model = ols('target ~ BMPHT_z_score+HSAGEIR+parental_diabetes+physical_activity+education_12_years+income_20000_or_more+smoking_hist+MAPF2',data=subset_df).fit()\n",
    "\n",
    "# Calculate 1-SD lower comparison for each variable in the model\n",
    "print(f\"\\n1-SD lower comparison for each variable with confidence intervals in the Basic model:\")\n",
    "\n",
    "# Iterate through each predictor\n",
    "for predictor in anthropometric_measures:\n",
    "# Coefficient for the predictor\n",
    "    coef = model.params[predictor]\n",
    "    \n",
    "    # Standard deviation of the predictor\n",
    "    std_dev = std_devs[predictor] if predictor in std_devs else 0\n",
    "    \n",
    "    # Calculate the effect of a 1-SD decrease in the predictor\n",
    "    BMPHT_male_effect_model2 = coef * (-std_dev)\n",
    "    \n",
    "    # Calculate the confidence intervals for the 1-SD lower comparison\n",
    "    ci_df = model.conf_int()  # Get the confidence interval DataFrame\n",
    "    \n",
    "    # Access the lower and upper bounds of the predictor's confidence interval\n",
    "    if predictor in ci_df.index:\n",
    "        BMPHT_male_lower_ci_model2 = ci_df.loc[predictor, 0] * (-std_dev)\n",
    "        BMPHT_male_upper_ci_model2 = ci_df.loc[predictor, 1] * (-std_dev)\n",
    "        \n",
    "        # Print the effect and confidence intervals\n",
    "        print(f\"{predictor}: {BMPHT_male_effect_model2:.4f} change in percent body fat for 1-SD lower\")\n",
    "        print(f\"    95% CI: [{BMPHT_male_lower_ci_model2:.4f}, {BMPHT_male_upper_ci_model2:.4f}]\")\n",
    "    else:\n",
    "        print(f\"Predictor '{predictor}' not found in the model confidence intervals.\")\n",
    "    \n",
    "    sign = \"+\" if BMPHT_male_effect_model2 >= 0 else \"\"\n",
    "    height_male_model2 = f\"{sign}{abs(BMPHT_male_effect_model2):.2f} ({BMPHT_male_upper_ci_model2:.2f}-{BMPHT_male_lower_ci_model2:.2f})\"\n",
    "    print(height_male_model2)"
   ]
  },
  {
   "cell_type": "code",
   "execution_count": 125,
   "metadata": {},
   "outputs": [],
   "source": [
    "height_male_model3 = '-'"
   ]
  },
  {
   "cell_type": "markdown",
   "metadata": {},
   "source": [
    "## Leg length"
   ]
  },
  {
   "cell_type": "markdown",
   "metadata": {},
   "source": [
    "### Model 1"
   ]
  },
  {
   "cell_type": "code",
   "execution_count": 126,
   "metadata": {},
   "outputs": [
    {
     "name": "stdout",
     "output_type": "stream",
     "text": [
      "\n",
      "1-SD lower comparison for each variable with confidence intervals in the Basic model:\n",
      "leg_length_z_score: 0.1801 change in percent body fat for 1-SD lower\n",
      "    95% CI: [0.3802, -0.0201]\n",
      "+0.17 (-0.03-0.37)\n"
     ]
    }
   ],
   "source": [
    "anthropometric_measures = ['leg_length_z_score']\n",
    "model = ols('target ~ leg_length_z_score+HSAGEIR',data=subset_df).fit()\n",
    "\n",
    "# Calculate 1-SD lower comparison for each variable in the model\n",
    "print(f\"\\n1-SD lower comparison for each variable with confidence intervals in the Basic model:\")\n",
    "\n",
    "# Iterate through each predictor\n",
    "for predictor in anthropometric_measures:\n",
    "# Coefficient for the predictor\n",
    "    coef = model.params[predictor]\n",
    "    \n",
    "    # Standard deviation of the predictor\n",
    "    std_dev = std_devs[predictor] if predictor in std_devs else 0\n",
    "    \n",
    "    # Calculate the effect of a 1-SD decrease in the predictor\n",
    "    leg_length_male_effect_model1 = coef * (-std_dev)\n",
    "    \n",
    "    # Calculate the confidence intervals for the 1-SD lower comparison\n",
    "    ci_df = model.conf_int()  # Get the confidence interval DataFrame\n",
    "    \n",
    "    # Access the lower and upper bounds of the predictor's confidence interval\n",
    "    if predictor in ci_df.index:\n",
    "        leg_length_male_lower_ci_model1 = ci_df.loc[predictor, 0] * (-std_dev)\n",
    "        leg_length_male_upper_ci_model1 = ci_df.loc[predictor, 1] * (-std_dev)\n",
    "        \n",
    "        # Print the effect and confidence intervals\n",
    "        print(f\"{predictor}: {BMPHT_male_effect_model1:.4f} change in percent body fat for 1-SD lower\")\n",
    "        print(f\"    95% CI: [{BMPHT_male_lower_ci_model1:.4f}, {BMPHT_male_upper_ci_model1:.4f}]\")\n",
    "    else:\n",
    "        print(f\"Predictor '{predictor}' not found in the model confidence intervals.\")\n",
    "    \n",
    "    sign = \"+\" if leg_length_male_effect_model1 >= 0 else \"\"\n",
    "    leg_length_male_model1 = f\"{sign}{abs(leg_length_male_effect_model1):.2f} ({leg_length_male_upper_ci_model1:.2f}-{leg_length_male_lower_ci_model1:.2f})\"\n",
    "    print(leg_length_male_model1)"
   ]
  },
  {
   "cell_type": "markdown",
   "metadata": {},
   "source": [
    "### Model 2"
   ]
  },
  {
   "cell_type": "code",
   "execution_count": 127,
   "metadata": {},
   "outputs": [
    {
     "name": "stdout",
     "output_type": "stream",
     "text": [
      "\n",
      "1-SD lower comparison for each variable with confidence intervals in the Basic model:\n",
      "leg_length_z_score: 0.1279 change in percent body fat for 1-SD lower\n",
      "    95% CI: [0.3255, -0.0697]\n",
      "+0.13 (-0.07-0.33)\n"
     ]
    }
   ],
   "source": [
    "model = ols('target ~ leg_length_z_score+HSAGEIR+parental_diabetes+physical_activity+education_12_years+income_20000_or_more+smoking_hist+MAPF2',data=subset_df).fit()\n",
    "\n",
    "# Calculate 1-SD lower comparison for each variable in the model\n",
    "print(f\"\\n1-SD lower comparison for each variable with confidence intervals in the Basic model:\")\n",
    "\n",
    "# Iterate through each predictor\n",
    "for predictor in anthropometric_measures:\n",
    "# Coefficient for the predictor\n",
    "    coef = model.params[predictor]\n",
    "    \n",
    "    # Standard deviation of the predictor\n",
    "    std_dev = std_devs[predictor] if predictor in std_devs else 0\n",
    "    \n",
    "    # Calculate the effect of a 1-SD decrease in the predictor\n",
    "    leg_length_male_effect_model2 = coef * (-std_dev)\n",
    "    \n",
    "    # Calculate the confidence intervals for the 1-SD lower comparison\n",
    "    ci_df = model.conf_int()  # Get the confidence interval DataFrame\n",
    "    \n",
    "    # Access the lower and upper bounds of the predictor's confidence interval\n",
    "    if predictor in ci_df.index:\n",
    "        leg_length_male_lower_ci_model2 = ci_df.loc[predictor, 0] * (-std_dev)\n",
    "        leg_length_male_upper_ci_model2 = ci_df.loc[predictor, 1] * (-std_dev)\n",
    "        \n",
    "        # Print the effect and confidence intervals\n",
    "        print(f\"{predictor}: {leg_length_male_effect_model2:.4f} change in percent body fat for 1-SD lower\")\n",
    "        print(f\"    95% CI: [{leg_length_male_lower_ci_model2:.4f}, {leg_length_male_upper_ci_model2:.4f}]\")\n",
    "    else:\n",
    "        print(f\"Predictor '{predictor}' not found in the model confidence intervals.\")\n",
    "    \n",
    "    sign = \"+\" if leg_length_male_effect_model2 >= 0 else \"\"\n",
    "    leg_length_male_model2 = f\"{sign}{abs(leg_length_male_effect_model2):.2f} ({leg_length_male_upper_ci_model2:.2f}-{leg_length_male_lower_ci_model2:.2f})\"\n",
    "    print(leg_length_male_model2)"
   ]
  },
  {
   "cell_type": "code",
   "execution_count": 128,
   "metadata": {},
   "outputs": [],
   "source": [
    "leg_length_male_model3 = '-'"
   ]
  },
  {
   "cell_type": "markdown",
   "metadata": {},
   "source": [
    "## Leg length to height ratio"
   ]
  },
  {
   "cell_type": "markdown",
   "metadata": {},
   "source": [
    "### Model 1"
   ]
  },
  {
   "cell_type": "code",
   "execution_count": 129,
   "metadata": {},
   "outputs": [
    {
     "name": "stdout",
     "output_type": "stream",
     "text": [
      "\n",
      "1-SD lower comparison for each variable with confidence intervals in the Basic model:\n",
      "leg_length_to_height_ratio_z_score: 0.2383 change in percent body fat for 1-SD lower\n",
      "    95% CI: [0.4388, 0.0378]\n",
      "+0.24 (0.04-0.44)\n"
     ]
    }
   ],
   "source": [
    "anthropometric_measures = ['leg_length_to_height_ratio_z_score']\n",
    "model = ols('target ~ leg_length_to_height_ratio_z_score+HSAGEIR',data=subset_df).fit()\n",
    "\n",
    "# Calculate 1-SD lower comparison for each variable in the model\n",
    "print(f\"\\n1-SD lower comparison for each variable with confidence intervals in the Basic model:\")\n",
    "\n",
    "# Iterate through each predictor\n",
    "for predictor in anthropometric_measures:\n",
    "# Coefficient for the predictor\n",
    "    coef = model.params[predictor]\n",
    "    \n",
    "    # Standard deviation of the predictor\n",
    "    std_dev = std_devs[predictor] if predictor in std_devs else 0\n",
    "    \n",
    "    # Calculate the effect of a 1-SD decrease in the predictor\n",
    "    ratio_male_effect_model1 = coef * (-std_dev)\n",
    "    \n",
    "    # Calculate the confidence intervals for the 1-SD lower comparison\n",
    "    ci_df = model.conf_int()  # Get the confidence interval DataFrame\n",
    "    \n",
    "    # Access the lower and upper bounds of the predictor's confidence interval\n",
    "    if predictor in ci_df.index:\n",
    "        ratio_male_lower_ci_model1 = ci_df.loc[predictor, 0] * (-std_dev)\n",
    "        ratio_male_upper_ci_model1 = ci_df.loc[predictor, 1] * (-std_dev)\n",
    "        \n",
    "        # Print the effect and confidence intervals\n",
    "        print(f\"{predictor}: {ratio_male_effect_model1:.4f} change in percent body fat for 1-SD lower\")\n",
    "        print(f\"    95% CI: [{ratio_male_lower_ci_model1:.4f}, {ratio_male_upper_ci_model1:.4f}]\")\n",
    "    else:\n",
    "        print(f\"Predictor '{predictor}' not found in the model confidence intervals.\")\n",
    "    \n",
    "    sign = \"+\" if ratio_male_effect_model1 >= 0 else \"\"\n",
    "    ratio_male_model1 = f\"{sign}{abs(ratio_male_effect_model1):.2f} ({ratio_male_upper_ci_model1:.2f}-{ratio_male_lower_ci_model1:.2f})\"\n",
    "    print(ratio_male_model1)"
   ]
  },
  {
   "cell_type": "markdown",
   "metadata": {},
   "source": [
    "### Model 2"
   ]
  },
  {
   "cell_type": "code",
   "execution_count": 130,
   "metadata": {},
   "outputs": [
    {
     "name": "stdout",
     "output_type": "stream",
     "text": [
      "\n",
      "1-SD lower comparison for each variable with confidence intervals in the Basic model:\n",
      "leg_length_to_height_ratio_z_score: 0.2018 change in percent body fat for 1-SD lower\n",
      "    95% CI: [0.4012, 0.0024]\n",
      "+0.20 (0.00-0.40)\n"
     ]
    }
   ],
   "source": [
    "model = ols('target ~ leg_length_to_height_ratio_z_score+HSAGEIR+parental_diabetes+physical_activity+education_12_years+income_20000_or_more+smoking_hist+MAPF2',data=subset_df).fit()\n",
    "\n",
    "# Calculate 1-SD lower comparison for each variable in the model\n",
    "print(f\"\\n1-SD lower comparison for each variable with confidence intervals in the Basic model:\")\n",
    "\n",
    "# Iterate through each predictor\n",
    "for predictor in anthropometric_measures:\n",
    "# Coefficient for the predictor\n",
    "    coef = model.params[predictor]\n",
    "    \n",
    "    # Standard deviation of the predictor\n",
    "    std_dev = std_devs[predictor] if predictor in std_devs else 0\n",
    "    \n",
    "    # Calculate the effect of a 1-SD decrease in the predictor\n",
    "    ratio_male_effect_model2 = coef * (-std_dev)\n",
    "    \n",
    "    # Calculate the confidence intervals for the 1-SD lower comparison\n",
    "    ci_df = model.conf_int()  # Get the confidence interval DataFrame\n",
    "    \n",
    "    # Access the lower and upper bounds of the predictor's confidence interval\n",
    "    if predictor in ci_df.index:\n",
    "        ratio_male_lower_ci_model2 = ci_df.loc[predictor, 0] * (-std_dev)\n",
    "        ratio_male_upper_ci_model2 = ci_df.loc[predictor, 1] * (-std_dev)\n",
    "        \n",
    "        # Print the effect and confidence intervals\n",
    "        print(f\"{predictor}: {ratio_male_effect_model2:.4f} change in percent body fat for 1-SD lower\")\n",
    "        print(f\"    95% CI: [{ratio_male_lower_ci_model2:.4f}, {ratio_male_upper_ci_model2:.4f}]\")\n",
    "    else:\n",
    "        print(f\"Predictor '{predictor}' not found in the model confidence intervals.\")\n",
    "    \n",
    "    sign = \"+\" if ratio_male_effect_model2 >= 0 else \"\"\n",
    "    ratio_male_model2 = f\"{sign}{abs(ratio_male_effect_model2):.2f} ({ratio_male_upper_ci_model2:.2f}-{ratio_male_lower_ci_model2:.2f})\"\n",
    "    print(ratio_male_model2)"
   ]
  },
  {
   "cell_type": "code",
   "execution_count": 131,
   "metadata": {},
   "outputs": [],
   "source": [
    "ratio_male_model3 = '-'"
   ]
  },
  {
   "cell_type": "markdown",
   "metadata": {},
   "source": [
    "# HOMA-IR"
   ]
  },
  {
   "cell_type": "code",
   "execution_count": 132,
   "metadata": {},
   "outputs": [],
   "source": [
    "HOMA_df['HOMA_IR_log'] = np.log(HOMA_df['HOMA2_IR'])\n",
    "\n",
    "HOMA_df['MAPF2'] = HOMA_df['MAPF2'].fillna(0)\n",
    "\n",
    "std_devs = HOMA_df[['BMPHT_z_score','leg_length_z_score','leg_length_to_height_ratio_z_score']].std()"
   ]
  },
  {
   "cell_type": "markdown",
   "metadata": {},
   "source": [
    "## Height"
   ]
  },
  {
   "cell_type": "markdown",
   "metadata": {},
   "source": [
    "### Model 1"
   ]
  },
  {
   "cell_type": "code",
   "execution_count": 133,
   "metadata": {},
   "outputs": [
    {
     "name": "stdout",
     "output_type": "stream",
     "text": [
      "\n",
      "1-SD lower comparison for each variable with confidence intervals in the Basic model:\n",
      "BMPHT_z_score: 1.00 change in percent body fat for 1-SD lower\n",
      "    95% CI: [1.01, 0.98]\n",
      "1.00 (0.98-1.01)\n"
     ]
    }
   ],
   "source": [
    "anthropometric_measures = ['BMPHT_z_score']\n",
    "model = ols('HOMA_IR_log ~ BMPHT_z_score+HSAGEIR',data=HOMA_df).fit()\n",
    "\n",
    "# Calculate 1-SD lower comparison for each variable in the model\n",
    "print(f\"\\n1-SD lower comparison for each variable with confidence intervals in the Basic model:\")\n",
    "\n",
    "# Iterate through each predictor\n",
    "for predictor in anthropometric_measures:\n",
    "# Coefficient for the predictor\n",
    "    coef = model.params[predictor]\n",
    "    \n",
    "    # Standard deviation of the predictor\n",
    "    std_dev = std_devs[predictor] if predictor in std_devs else 0\n",
    "    \n",
    "    # Calculate the effect of a 1-SD decrease in the predictor\n",
    "    BMPHT_HOMA_effect_model1 = np.exp(coef * (-std_dev))\n",
    "    \n",
    "    # Calculate the confidence intervals for the 1-SD lower comparison\n",
    "    ci_df = model.conf_int()  # Get the confidence interval DataFrame\n",
    "    \n",
    "    # Access the lower and upper bounds of the predictor's confidence interval\n",
    "    if predictor in ci_df.index:\n",
    "        BMPHT_HOMA_lower_ci_model1 = np.exp(ci_df.loc[predictor, 0] * (-std_dev))\n",
    "        BMPHT_HOMA_upper_ci_model1 = np.exp(ci_df.loc[predictor, 1] * (-std_dev))\n",
    "        \n",
    "        # Print the effect and confidence intervals\n",
    "        print(f\"{predictor}: {BMPHT_HOMA_effect_model1:.2f} change in percent body fat for 1-SD lower\")\n",
    "        print(f\"    95% CI: [{BMPHT_HOMA_lower_ci_model1:.2f}, {BMPHT_HOMA_upper_ci_model1:.2f}]\")\n",
    "    else:\n",
    "        print(f\"Predictor '{predictor}' not found in the model confidence intervals.\")\n",
    "    \n",
    "    sign = \"+\" if BMPHT_HOMA_effect_model1 >= 0 else \"\"\n",
    "    height_HOMA_model1 = f\"{abs(BMPHT_HOMA_effect_model1):.2f} ({BMPHT_HOMA_upper_ci_model1:.2f}-{BMPHT_HOMA_lower_ci_model1:.2f})\"\n",
    "    print(height_HOMA_model1)"
   ]
  },
  {
   "cell_type": "markdown",
   "metadata": {},
   "source": [
    "### Model 2"
   ]
  },
  {
   "cell_type": "code",
   "execution_count": 134,
   "metadata": {},
   "outputs": [
    {
     "name": "stdout",
     "output_type": "stream",
     "text": [
      "\n",
      "1-SD lower comparison for each variable with confidence intervals in the Basic model:\n",
      "BMPHT_z_score: 0.99 change in percent body fat for 1-SD lower\n",
      "    95% CI: [1.01, 0.98]\n",
      "0.99 (0.98-1.01)\n"
     ]
    }
   ],
   "source": [
    "model = ols('HOMA_IR_log ~ BMPHT_z_score+HSAGEIR+parental_diabetes+physical_activity+education_12_years+income_20000_or_more+smoking_hist+MAPF2',data=HOMA_df).fit()\n",
    "\n",
    "# Calculate 1-SD lower comparison for each variable in the model\n",
    "print(f\"\\n1-SD lower comparison for each variable with confidence intervals in the Basic model:\")\n",
    "\n",
    "# Iterate through each predictor\n",
    "for predictor in anthropometric_measures:\n",
    "# Coefficient for the predictor\n",
    "    coef = model.params[predictor]\n",
    "    \n",
    "    # Standard deviation of the predictor\n",
    "    std_dev = std_devs[predictor] if predictor in std_devs else 0\n",
    "    \n",
    "    # Calculate the effect of a 1-SD decrease in the predictor\n",
    "    BMPHT_HOMA_effect_model2 = np.exp(coef * (-std_dev))\n",
    "    \n",
    "    # Calculate the confidence intervals for the 1-SD lower comparison\n",
    "    ci_df = model.conf_int()  # Get the confidence interval DataFrame\n",
    "    \n",
    "    # Access the lower and upper bounds of the predictor's confidence interval\n",
    "    if predictor in ci_df.index:\n",
    "        BMPHT_HOMA_lower_ci_model2 = np.exp(ci_df.loc[predictor, 0] * (-std_dev))\n",
    "        BMPHT_HOMA_upper_ci_model2 = np.exp(ci_df.loc[predictor, 1] * (-std_dev))\n",
    "        \n",
    "        # Print the effect and confidence intervals\n",
    "        print(f\"{predictor}: {BMPHT_HOMA_effect_model2:.2f} change in percent body fat for 1-SD lower\")\n",
    "        print(f\"    95% CI: [{BMPHT_HOMA_lower_ci_model2:.2f}, {BMPHT_HOMA_upper_ci_model2:.2f}]\")\n",
    "    else:\n",
    "        print(f\"Predictor '{predictor}' not found in the model confidence intervals.\")\n",
    "\n",
    "    sign = \"+\" if BMPHT_HOMA_effect_model2 >= 0 else \"\"\n",
    "    height_HOMA_model2 = f\"{abs(BMPHT_HOMA_effect_model2):.2f} ({BMPHT_HOMA_upper_ci_model2:.2f}-{BMPHT_HOMA_lower_ci_model2:.2f})\"\n",
    "    print(height_HOMA_model2)"
   ]
  },
  {
   "cell_type": "markdown",
   "metadata": {},
   "source": [
    "### Model 3"
   ]
  },
  {
   "cell_type": "code",
   "execution_count": 135,
   "metadata": {},
   "outputs": [
    {
     "name": "stdout",
     "output_type": "stream",
     "text": [
      "\n",
      "1-SD lower comparison for each variable with confidence intervals in the Basic model:\n",
      "BMPHT_z_score: 0.98 change in percent body fat for 1-SD lower\n",
      "    95% CI: [0.99, 0.97]\n",
      "0.98 (0.97-0.99)\n"
     ]
    }
   ],
   "source": [
    "model = ols('HOMA_IR_log ~ BMPHT_z_score+HSAGEIR+parental_diabetes+physical_activity+education_12_years+income_20000_or_more+smoking_hist+MAPF2+PBF+PBF*Sex',data=HOMA_df).fit()\n",
    "\n",
    "# Calculate 1-SD lower comparison for each variable in the model\n",
    "print(f\"\\n1-SD lower comparison for each variable with confidence intervals in the Basic model:\")\n",
    "\n",
    "# Iterate through each predictor\n",
    "for predictor in anthropometric_measures:\n",
    "# Coefficient for the predictor\n",
    "    coef = model.params[predictor]\n",
    "    \n",
    "    # Standard deviation of the predictor\n",
    "    std_dev = std_devs[predictor] if predictor in std_devs else 0\n",
    "    \n",
    "    # Calculate the effect of a 1-SD decrease in the predictor\n",
    "    BMPHT_HOMA_effect_model3 = np.exp(coef * (-std_dev))\n",
    "    \n",
    "    # Calculate the confidence intervals for the 1-SD lower comparison\n",
    "    ci_df = model.conf_int()  # Get the confidence interval DataFrame\n",
    "    \n",
    "    # Access the lower and upper bounds of the predictor's confidence interval\n",
    "    if predictor in ci_df.index:\n",
    "        BMPHT_HOMA_lower_ci_model3 = np.exp(ci_df.loc[predictor, 0] * (-std_dev))\n",
    "        BMPHT_HOMA_upper_ci_model3 = np.exp(ci_df.loc[predictor, 1] * (-std_dev))\n",
    "        \n",
    "        # Print the effect and confidence intervals\n",
    "        print(f\"{predictor}: {BMPHT_HOMA_effect_model3:.2f} change in percent body fat for 1-SD lower\")\n",
    "        print(f\"    95% CI: [{BMPHT_HOMA_lower_ci_model3:.2f}, {BMPHT_HOMA_upper_ci_model3:.2f}]\")\n",
    "    else:\n",
    "        print(f\"Predictor '{predictor}' not found in the model confidence intervals.\")\n",
    "    \n",
    "    sign = \"+\" if BMPHT_HOMA_effect_model3 >= 0 else \"\"\n",
    "    height_HOMA_model3 = f\"{abs(BMPHT_HOMA_effect_model3):.2f} ({BMPHT_HOMA_upper_ci_model3:.2f}-{BMPHT_HOMA_lower_ci_model3:.2f})\"\n",
    "    print(height_HOMA_model3)"
   ]
  },
  {
   "cell_type": "markdown",
   "metadata": {},
   "source": [
    "## Leg Length"
   ]
  },
  {
   "cell_type": "markdown",
   "metadata": {},
   "source": [
    "### Model 1"
   ]
  },
  {
   "cell_type": "code",
   "execution_count": 136,
   "metadata": {},
   "outputs": [
    {
     "name": "stdout",
     "output_type": "stream",
     "text": [
      "\n",
      "1-SD lower comparison for each variable with confidence intervals in the Basic model:\n",
      "leg_length_z_score: 1.02 change in percent body fat for 1-SD lower\n",
      "    95% CI: [1.04, 1.01]\n",
      "1.02 (1.01-1.04)\n"
     ]
    }
   ],
   "source": [
    "anthropometric_measures = ['leg_length_z_score']\n",
    "model = ols('HOMA_IR_log ~ leg_length_z_score+HSAGEIR',data=HOMA_df).fit()\n",
    "\n",
    "# Calculate 1-SD lower comparison for each variable in the model\n",
    "print(f\"\\n1-SD lower comparison for each variable with confidence intervals in the Basic model:\")\n",
    "\n",
    "# Iterate through each predictor\n",
    "for predictor in anthropometric_measures:\n",
    "# Coefficient for the predictor\n",
    "    coef = model.params[predictor]\n",
    "    \n",
    "    # Standard deviation of the predictor\n",
    "    std_dev = std_devs[predictor] if predictor in std_devs else 0\n",
    "    \n",
    "    # Calculate the effect of a 1-SD decrease in the predictor\n",
    "    leg_length_HOMA_effect_model1 = np.exp(coef * (-std_dev))\n",
    "    \n",
    "    # Calculate the confidence intervals for the 1-SD lower comparison\n",
    "    ci_df = model.conf_int()  # Get the confidence interval DataFrame\n",
    "    \n",
    "    # Access the lower and upper bounds of the predictor's confidence interval\n",
    "    if predictor in ci_df.index:\n",
    "        leg_length_HOMA_lower_ci_model1 = np.exp(ci_df.loc[predictor, 0] * (-std_dev))\n",
    "        leg_length_HOMA_upper_ci_model1 = np.exp(ci_df.loc[predictor, 1] * (-std_dev))\n",
    "        \n",
    "        # Print the effect and confidence intervals\n",
    "        print(f\"{predictor}: {leg_length_HOMA_effect_model1:.2f} change in percent body fat for 1-SD lower\")\n",
    "        print(f\"    95% CI: [{leg_length_HOMA_lower_ci_model1:.2f}, {leg_length_HOMA_upper_ci_model1:.2f}]\")\n",
    "    else:\n",
    "        print(f\"Predictor '{predictor}' not found in the model confidence intervals.\")\n",
    "    \n",
    "    sign = \"+\" if leg_length_HOMA_effect_model1 >= 0 else \"\"\n",
    "    leg_length_HOMA_model1 = f\"{abs(leg_length_HOMA_effect_model1):.2f} ({leg_length_HOMA_upper_ci_model1:.2f}-{leg_length_HOMA_lower_ci_model1:.2f})\"\n",
    "    print(leg_length_HOMA_model1)"
   ]
  },
  {
   "cell_type": "markdown",
   "metadata": {},
   "source": [
    "### Model 2"
   ]
  },
  {
   "cell_type": "code",
   "execution_count": 137,
   "metadata": {},
   "outputs": [
    {
     "name": "stdout",
     "output_type": "stream",
     "text": [
      "\n",
      "1-SD lower comparison for each variable with confidence intervals in the Basic model:\n",
      "leg_length_z_score: 1.02 change in percent body fat for 1-SD lower\n",
      "    95% CI: [1.03, 1.00]\n",
      "1.02 (1.00-1.03)\n"
     ]
    }
   ],
   "source": [
    "model = ols('HOMA_IR_log ~ leg_length_z_score+HSAGEIR+parental_diabetes+physical_activity+education_12_years+income_20000_or_more+smoking_hist+MAPF2',data=HOMA_df).fit()\n",
    "\n",
    "# Calculate 1-SD lower comparison for each variable in the model\n",
    "print(f\"\\n1-SD lower comparison for each variable with confidence intervals in the Basic model:\")\n",
    "\n",
    "# Iterate through each predictor\n",
    "for predictor in anthropometric_measures:\n",
    "# Coefficient for the predictor\n",
    "    coef = model.params[predictor]\n",
    "    \n",
    "    # Standard deviation of the predictor\n",
    "    std_dev = std_devs[predictor] if predictor in std_devs else 0\n",
    "    \n",
    "    # Calculate the effect of a 1-SD decrease in the predictor\n",
    "    leg_length_HOMA_effect_model2 = np.exp(coef * (-std_dev))\n",
    "    \n",
    "    # Calculate the confidence intervals for the 1-SD lower comparison\n",
    "    ci_df = model.conf_int()  # Get the confidence interval DataFrame\n",
    "    \n",
    "    # Access the lower and upper bounds of the predictor's confidence interval\n",
    "    if predictor in ci_df.index:\n",
    "        leg_length_HOMA_lower_ci_model2 = np.exp(ci_df.loc[predictor, 0] * (-std_dev))\n",
    "        leg_length_HOMA_upper_ci_model2 = np.exp(ci_df.loc[predictor, 1] * (-std_dev))\n",
    "        \n",
    "        # Print the effect and confidence intervals\n",
    "        print(f\"{predictor}: {leg_length_HOMA_effect_model2:.2f} change in percent body fat for 1-SD lower\")\n",
    "        print(f\"    95% CI: [{leg_length_HOMA_lower_ci_model2:.2f}, {leg_length_HOMA_upper_ci_model2:.2f}]\")\n",
    "    else:\n",
    "        print(f\"Predictor '{predictor}' not found in the model confidence intervals.\")\n",
    "\n",
    "    sign = \"+\" if leg_length_HOMA_effect_model2 >= 0 else \"\"\n",
    "    leg_length_HOMA_model2 = f\"{abs(leg_length_HOMA_effect_model2):.2f} ({leg_length_HOMA_upper_ci_model2:.2f}-{leg_length_HOMA_lower_ci_model2:.2f})\"\n",
    "    print(leg_length_HOMA_model2)"
   ]
  },
  {
   "cell_type": "markdown",
   "metadata": {},
   "source": [
    "### Model 3"
   ]
  },
  {
   "cell_type": "code",
   "execution_count": 138,
   "metadata": {},
   "outputs": [
    {
     "name": "stdout",
     "output_type": "stream",
     "text": [
      "\n",
      "1-SD lower comparison for each variable with confidence intervals in the Basic model:\n",
      "leg_length_z_score: 1.00 change in percent body fat for 1-SD lower\n",
      "    95% CI: [1.01, 0.99]\n",
      "1.00 (0.99-1.01)\n"
     ]
    }
   ],
   "source": [
    "model = ols('HOMA_IR_log ~ leg_length_z_score+HSAGEIR+parental_diabetes+physical_activity+education_12_years+income_20000_or_more+smoking_hist+MAPF2+PBF+PBF*Sex',data=HOMA_df).fit()\n",
    "\n",
    "# Calculate 1-SD lower comparison for each variable in the model\n",
    "print(f\"\\n1-SD lower comparison for each variable with confidence intervals in the Basic model:\")\n",
    "\n",
    "# Iterate through each predictor\n",
    "for predictor in anthropometric_measures:\n",
    "# Coefficient for the predictor\n",
    "    coef = model.params[predictor]\n",
    "    \n",
    "    # Standard deviation of the predictor\n",
    "    std_dev = std_devs[predictor] if predictor in std_devs else 0\n",
    "    \n",
    "    # Calculate the effect of a 1-SD decrease in the predictor\n",
    "    leg_length_HOMA_effect_model3 = np.exp(coef * (-std_dev))\n",
    "    \n",
    "    # Calculate the confidence intervals for the 1-SD lower comparison\n",
    "    ci_df = model.conf_int()  # Get the confidence interval DataFrame\n",
    "    \n",
    "    # Access the lower and upper bounds of the predictor's confidence interval\n",
    "    if predictor in ci_df.index:\n",
    "        leg_length_HOMA_lower_ci_model3 = np.exp(ci_df.loc[predictor, 0] * (-std_dev))\n",
    "        leg_length_HOMA_upper_ci_model3 = np.exp(ci_df.loc[predictor, 1] * (-std_dev))\n",
    "        \n",
    "        # Print the effect and confidence intervals\n",
    "        print(f\"{predictor}: {leg_length_HOMA_effect_model3:.2f} change in percent body fat for 1-SD lower\")\n",
    "        print(f\"    95% CI: [{leg_length_HOMA_lower_ci_model3:.2f}, {leg_length_HOMA_upper_ci_model3:.2f}]\")\n",
    "    else:\n",
    "        print(f\"Predictor '{predictor}' not found in the model confidence intervals.\")\n",
    "    \n",
    "    sign = \"+\" if leg_length_HOMA_effect_model3 >= 0 else \"\"\n",
    "    leg_length_HOMA_model3 = f\"{abs(leg_length_HOMA_effect_model3):.2f} ({leg_length_HOMA_upper_ci_model3:.2f}-{leg_length_HOMA_lower_ci_model3:.2f})\"\n",
    "    print(leg_length_HOMA_model3)"
   ]
  },
  {
   "cell_type": "markdown",
   "metadata": {},
   "source": [
    "## Leg Length to Height ratio"
   ]
  },
  {
   "cell_type": "markdown",
   "metadata": {},
   "source": [
    "### Model 1"
   ]
  },
  {
   "cell_type": "code",
   "execution_count": 139,
   "metadata": {},
   "outputs": [
    {
     "name": "stdout",
     "output_type": "stream",
     "text": [
      "\n",
      "1-SD lower comparison for each variable with confidence intervals in the Basic model:\n",
      "leg_length_to_height_ratio_z_score: 1.06 change in percent body fat for 1-SD lower\n",
      "    95% CI: [1.07, 1.04]\n",
      "1.06 (1.04-1.07)\n"
     ]
    }
   ],
   "source": [
    "anthropometric_measures = ['leg_length_to_height_ratio_z_score']\n",
    "model = ols('HOMA_IR_log ~ leg_length_to_height_ratio_z_score+HSAGEIR',data=HOMA_df).fit()\n",
    "\n",
    "# Calculate 1-SD lower comparison for each variable in the model\n",
    "print(f\"\\n1-SD lower comparison for each variable with confidence intervals in the Basic model:\")\n",
    "\n",
    "# Iterate through each predictor\n",
    "for predictor in anthropometric_measures:\n",
    "# Coefficient for the predictor\n",
    "    coef = model.params[predictor]\n",
    "    \n",
    "    # Standard deviation of the predictor\n",
    "    std_dev = std_devs[predictor] if predictor in std_devs else 0\n",
    "    \n",
    "    # Calculate the effect of a 1-SD decrease in the predictor\n",
    "    leg_length_to_height_ratio_HOMA_effect_model1 = np.exp(coef * (-std_dev))\n",
    "    \n",
    "    # Calculate the confidence intervals for the 1-SD lower comparison\n",
    "    ci_df = model.conf_int()  # Get the confidence interval DataFrame\n",
    "    \n",
    "    # Access the lower and upper bounds of the predictor's confidence interval\n",
    "    if predictor in ci_df.index:\n",
    "        leg_length_to_height_ratio_HOMA_lower_ci_model1 = np.exp(ci_df.loc[predictor, 0] * (-std_dev))\n",
    "        leg_length_to_height_ratio_HOMA_upper_ci_model1 = np.exp(ci_df.loc[predictor, 1] * (-std_dev))\n",
    "        \n",
    "        # Print the effect and confidence intervals\n",
    "        print(f\"{predictor}: {leg_length_to_height_ratio_HOMA_effect_model1:.2f} change in percent body fat for 1-SD lower\")\n",
    "        print(f\"    95% CI: [{leg_length_to_height_ratio_HOMA_lower_ci_model1:.2f}, {leg_length_to_height_ratio_HOMA_upper_ci_model1:.2f}]\")\n",
    "    else:\n",
    "        print(f\"Predictor '{predictor}' not found in the model confidence intervals.\")\n",
    "    \n",
    "    sign = \"+\" if leg_length_to_height_ratio_HOMA_effect_model1 >= 0 else \"\"\n",
    "    ratio_HOMA_model1 = f\"{abs(leg_length_to_height_ratio_HOMA_effect_model1):.2f} ({leg_length_to_height_ratio_HOMA_upper_ci_model1:.2f}-{leg_length_to_height_ratio_HOMA_lower_ci_model1:.2f})\"\n",
    "    print(ratio_HOMA_model1)"
   ]
  },
  {
   "cell_type": "markdown",
   "metadata": {},
   "source": [
    "### Model 2"
   ]
  },
  {
   "cell_type": "code",
   "execution_count": 140,
   "metadata": {},
   "outputs": [
    {
     "name": "stdout",
     "output_type": "stream",
     "text": [
      "\n",
      "1-SD lower comparison for each variable with confidence intervals in the Basic model:\n",
      "leg_length_to_height_ratio_z_score: 1.05 change in percent body fat for 1-SD lower\n",
      "    95% CI: [1.07, 1.04]\n",
      "1.05 (1.04-1.07)\n"
     ]
    }
   ],
   "source": [
    "model = ols('HOMA_IR_log ~ leg_length_to_height_ratio_z_score+HSAGEIR+parental_diabetes+physical_activity+education_12_years+income_20000_or_more+smoking_hist+MAPF2',data=HOMA_df).fit()\n",
    "\n",
    "# Calculate 1-SD lower comparison for each variable in the model\n",
    "print(f\"\\n1-SD lower comparison for each variable with confidence intervals in the Basic model:\")\n",
    "\n",
    "# Iterate through each predictor\n",
    "for predictor in anthropometric_measures:\n",
    "# Coefficient for the predictor\n",
    "    coef = model.params[predictor]\n",
    "    \n",
    "    # Standard deviation of the predictor\n",
    "    std_dev = std_devs[predictor] if predictor in std_devs else 0\n",
    "    \n",
    "    # Calculate the effect of a 1-SD decrease in the predictor\n",
    "    leg_length_to_height_ratio_HOMA_effect_model2 = np.exp(coef * (-std_dev))\n",
    "    \n",
    "    # Calculate the confidence intervals for the 1-SD lower comparison\n",
    "    ci_df = model.conf_int()  # Get the confidence interval DataFrame\n",
    "    \n",
    "    # Access the lower and upper bounds of the predictor's confidence interval\n",
    "    if predictor in ci_df.index:\n",
    "        leg_length_to_height_ratio_HOMA_lower_ci_model2 = np.exp(ci_df.loc[predictor, 0] * (-std_dev))\n",
    "        leg_length_to_height_ratio_HOMA_upper_ci_model2 = np.exp(ci_df.loc[predictor, 1] * (-std_dev))\n",
    "        \n",
    "        # Print the effect and confidence intervals\n",
    "        print(f\"{predictor}: {leg_length_to_height_ratio_HOMA_effect_model2:.2f} change in percent body fat for 1-SD lower\")\n",
    "        print(f\"    95% CI: [{leg_length_to_height_ratio_HOMA_lower_ci_model2:.2f}, {leg_length_to_height_ratio_HOMA_upper_ci_model2:.2f}]\")\n",
    "    else:\n",
    "        print(f\"Predictor '{predictor}' not found in the model confidence intervals.\")\n",
    "    \n",
    "    sign = \"+\" if leg_length_to_height_ratio_HOMA_effect_model2 >= 0 else \"\"\n",
    "    ratio_HOMA_model2 = f\"{abs(leg_length_to_height_ratio_HOMA_effect_model2):.2f} ({leg_length_to_height_ratio_HOMA_upper_ci_model2:.2f}-{leg_length_to_height_ratio_HOMA_lower_ci_model2:.2f})\"\n",
    "    print(ratio_HOMA_model2)"
   ]
  },
  {
   "cell_type": "markdown",
   "metadata": {},
   "source": [
    "### Model 3"
   ]
  },
  {
   "cell_type": "code",
   "execution_count": 141,
   "metadata": {},
   "outputs": [
    {
     "name": "stdout",
     "output_type": "stream",
     "text": [
      "\n",
      "1-SD lower comparison for each variable with confidence intervals in the Basic model:\n",
      "leg_length_to_height_ratio_z_score: 1.04 change in percent body fat for 1-SD lower\n",
      "    95% CI: [1.05, 1.02]\n",
      "1.04 (1.02-1.05)\n"
     ]
    }
   ],
   "source": [
    "model = ols('HOMA_IR_log ~ leg_length_to_height_ratio_z_score+HSAGEIR+parental_diabetes+physical_activity+education_12_years+income_20000_or_more+smoking_hist+MAPF2+PBF+PBF*Sex',data=HOMA_df).fit()\n",
    "\n",
    "# Calculate 1-SD lower comparison for each variable in the model\n",
    "print(f\"\\n1-SD lower comparison for each variable with confidence intervals in the Basic model:\")\n",
    "\n",
    "# Iterate through each predictor\n",
    "for predictor in anthropometric_measures:\n",
    "# Coefficient for the predictor\n",
    "    coef = model.params[predictor]\n",
    "    \n",
    "    # Standard deviation of the predictor\n",
    "    std_dev = std_devs[predictor] if predictor in std_devs else 0\n",
    "    \n",
    "    # Calculate the effect of a 1-SD decrease in the predictor\n",
    "    leg_length_to_height_ratio_HOMA_effect_model3 = np.exp(coef * (-std_dev))\n",
    "    \n",
    "    # Calculate the confidence intervals for the 1-SD lower comparison\n",
    "    ci_df = model.conf_int()  # Get the confidence interval DataFrame\n",
    "    \n",
    "    # Access the lower and upper bounds of the predictor's confidence interval\n",
    "    if predictor in ci_df.index:\n",
    "        leg_length_to_height_ratio_HOMA_lower_ci_model3 = np.exp(ci_df.loc[predictor, 0] * (-std_dev))\n",
    "        leg_length_to_height_ratio_HOMA_upper_ci_model3 = np.exp(ci_df.loc[predictor, 1] * (-std_dev))\n",
    "        \n",
    "        # Print the effect and confidence intervals\n",
    "        print(f\"{predictor}: {leg_length_to_height_ratio_HOMA_effect_model3:.2f} change in percent body fat for 1-SD lower\")\n",
    "        print(f\"    95% CI: [{leg_length_to_height_ratio_HOMA_lower_ci_model3:.2f}, {leg_length_to_height_ratio_HOMA_upper_ci_model3:.2f}]\")\n",
    "    else:\n",
    "        print(f\"Predictor '{predictor}' not found in the model confidence intervals.\")\n",
    "    \n",
    "    sign = \"+\" if leg_length_to_height_ratio_HOMA_effect_model3 >= 0 else \"\"\n",
    "    ratio_HOMA_model3 = f\"{abs(leg_length_to_height_ratio_HOMA_effect_model3):.2f} ({leg_length_to_height_ratio_HOMA_upper_ci_model3:.2f}-{leg_length_to_height_ratio_HOMA_lower_ci_model3:.2f})\"\n",
    "    print(ratio_HOMA_model3)"
   ]
  },
  {
   "cell_type": "markdown",
   "metadata": {},
   "source": [
    "# Prevalence Ratio"
   ]
  },
  {
   "cell_type": "code",
   "execution_count": 142,
   "metadata": {},
   "outputs": [],
   "source": [
    "ogtt_df['GT_Category_mapped'] = ogtt_df['GT_Category'].map({\n",
    "    'normal': 1 ,\n",
    "    'IGT': 2,\n",
    "    'diabetes': 3\n",
    "})\n",
    "ogtt_df['GT_Category_mapped'] = ogtt_df['GT_Category_mapped'].astype(int)\n",
    "\n",
    "ogtt_df['MAPF2'] = ogtt_df['MAPF2'].fillna(0)\n",
    "\n",
    "ogtt_df = pd.merge(ogtt_df, adiposity_df[['SEQN','PBF']], on='SEQN', how='left')\n",
    "\n",
    "std_devs = ogtt_df[['BMPHT_z_score','leg_length_z_score','leg_length_to_height_ratio_z_score']].std()\n",
    "\n",
    "medians = ogtt_df['PBF'].median()\n",
    "\n",
    "# Impute missing values with the median\n",
    "ogtt_df['PBF'] = ogtt_df['PBF'].fillna(medians)"
   ]
  },
  {
   "cell_type": "markdown",
   "metadata": {},
   "source": [
    "## Height"
   ]
  },
  {
   "cell_type": "code",
   "execution_count": 143,
   "metadata": {},
   "outputs": [],
   "source": [
    "std_dev = std_devs['BMPHT_z_score']\n",
    "anthropometric_measures = [['BMPHT_z_score',0],['BMPHT_z_score',1]]"
   ]
  },
  {
   "cell_type": "markdown",
   "metadata": {},
   "source": [
    "### Model 1"
   ]
  },
  {
   "cell_type": "code",
   "execution_count": 144,
   "metadata": {},
   "outputs": [
    {
     "name": "stdout",
     "output_type": "stream",
     "text": [
      "Optimization terminated successfully.\n",
      "         Current function value: 0.987781\n",
      "         Iterations 5\n"
     ]
    }
   ],
   "source": [
    "model = mnlogit('GT_Category_mapped ~ BMPHT_z_score+HSAGEIR',data=ogtt_df).fit()"
   ]
  },
  {
   "cell_type": "markdown",
   "metadata": {},
   "source": [
    "### IGT"
   ]
  },
  {
   "cell_type": "code",
   "execution_count": 145,
   "metadata": {},
   "outputs": [
    {
     "name": "stdout",
     "output_type": "stream",
     "text": [
      "1.12 (1.05-1.19)\n"
     ]
    }
   ],
   "source": [
    "coef = model.params[0]['BMPHT_z_score']\n",
    "BMPHT_IGT_Model1_effect = np.exp(coef * (-std_dev))\n",
    "\n",
    "ci_df = model.conf_int().reset_index()\n",
    "\n",
    "BMPHT_IGT_Model1_upper = np.exp(ci_df.loc[(ci_df['GT_Category_mapped'] == '2') & (ci_df['level_1'] == 'BMPHT_z_score'), 'upper'].values[0] * (-std_dev))\n",
    "BMPHT_IGT_Model1_lower = np.exp(ci_df.loc[(ci_df['GT_Category_mapped'] == '2') & (ci_df['level_1'] == 'BMPHT_z_score'), 'lower'].values[0] * (-std_dev))\n",
    "\n",
    "height_IGT_model1 = f\"{abs(BMPHT_IGT_Model1_effect):.2f} ({BMPHT_IGT_Model1_upper:.2f}-{BMPHT_IGT_Model1_lower:.2f})\"\n",
    "print(height_IGT_model1)\n"
   ]
  },
  {
   "cell_type": "markdown",
   "metadata": {},
   "source": [
    "### Diabetes"
   ]
  },
  {
   "cell_type": "code",
   "execution_count": 146,
   "metadata": {},
   "outputs": [
    {
     "name": "stdout",
     "output_type": "stream",
     "text": [
      "1.10 (1.03-1.18)\n"
     ]
    }
   ],
   "source": [
    "coef = model.params[1]['BMPHT_z_score']\n",
    "BMPHT_Diabetes_Model1_effect = np.exp(coef*(-std_dev))\n",
    "\n",
    "ci_df = model.conf_int().reset_index()\n",
    "\n",
    "BMPHT_Diabetes_Model1_upper = np.exp(ci_df.loc[(ci_df['GT_Category_mapped'] == '3') & (ci_df['level_1'] == 'BMPHT_z_score'), 'upper'].values[0] * (-std_dev))\n",
    "BMPHT_Diabetes_Model1_lower = np.exp(ci_df.loc[(ci_df['GT_Category_mapped'] == '3') & (ci_df['level_1'] == 'BMPHT_z_score'), 'lower'].values[0] * (-std_dev))\n",
    "\n",
    "height_diabetes_model1 = f\"{abs(BMPHT_Diabetes_Model1_effect):.2f} ({BMPHT_Diabetes_Model1_upper:.2f}-{BMPHT_Diabetes_Model1_lower:.2f})\"\n",
    "print(height_diabetes_model1)"
   ]
  },
  {
   "cell_type": "markdown",
   "metadata": {},
   "source": [
    "### Model 2"
   ]
  },
  {
   "cell_type": "code",
   "execution_count": 147,
   "metadata": {},
   "outputs": [
    {
     "name": "stdout",
     "output_type": "stream",
     "text": [
      "Optimization terminated successfully.\n",
      "         Current function value: 0.955146\n",
      "         Iterations 6\n"
     ]
    }
   ],
   "source": [
    "model = mnlogit('GT_Category_mapped ~ BMPHT_z_score+HSAGEIR+parental_diabetes+physical_activity+education_12_years+income_20000_or_more+smoking_hist+MAPF2',data=ogtt_df).fit()"
   ]
  },
  {
   "cell_type": "markdown",
   "metadata": {},
   "source": [
    "### IGT"
   ]
  },
  {
   "cell_type": "code",
   "execution_count": 148,
   "metadata": {},
   "outputs": [
    {
     "name": "stdout",
     "output_type": "stream",
     "text": [
      "1.10 (1.03-1.17)\n"
     ]
    }
   ],
   "source": [
    "coef = model.params[0]['BMPHT_z_score']\n",
    "BMPHT_IGT_Model2_effect = np.exp(coef*(-std_dev))\n",
    "\n",
    "ci_df = model.conf_int().reset_index()\n",
    "\n",
    "BMPHT_IGT_Model2_upper = np.exp(ci_df.loc[(ci_df['GT_Category_mapped'] == '2') & (ci_df['level_1'] == 'BMPHT_z_score'), 'upper'].values[0] * (-std_dev))\n",
    "BMPHT_IGT_Model2_lower = np.exp(ci_df.loc[(ci_df['GT_Category_mapped'] == '2') & (ci_df['level_1'] == 'BMPHT_z_score'), 'lower'].values[0] * (-std_dev))\n",
    "\n",
    "height_IGT_model2 = f\"{abs(BMPHT_IGT_Model2_effect):.2f} ({BMPHT_IGT_Model2_upper:.2f}-{BMPHT_IGT_Model2_lower:.2f})\"\n",
    "print(height_IGT_model2)"
   ]
  },
  {
   "cell_type": "markdown",
   "metadata": {},
   "source": [
    "### Diabetes"
   ]
  },
  {
   "cell_type": "code",
   "execution_count": 149,
   "metadata": {},
   "outputs": [
    {
     "name": "stdout",
     "output_type": "stream",
     "text": [
      "1.06 (0.98-1.14)\n"
     ]
    }
   ],
   "source": [
    "coef = model.params[1]['BMPHT_z_score']\n",
    "BMPHT_Diabetes_Model2_effect = np.exp(coef*(-std_dev))\n",
    "\n",
    "ci_df = model.conf_int().reset_index()\n",
    "\n",
    "BMPHT_Diabetes_Model2_upper = np.exp(ci_df.loc[(ci_df['GT_Category_mapped'] == '3') & (ci_df['level_1'] == 'BMPHT_z_score'), 'upper'].values[0] * (-std_dev))\n",
    "BMPHT_Diabetes_Model2_lower = np.exp(ci_df.loc[(ci_df['GT_Category_mapped'] == '3') & (ci_df['level_1'] == 'BMPHT_z_score'), 'lower'].values[0] * (-std_dev))\n",
    "\n",
    "height_diabetes_model2 = f\"{abs(BMPHT_Diabetes_Model2_effect):.2f} ({BMPHT_Diabetes_Model2_upper:.2f}-{BMPHT_Diabetes_Model2_lower:.2f})\"\n",
    "print(height_diabetes_model2)"
   ]
  },
  {
   "cell_type": "markdown",
   "metadata": {},
   "source": [
    "## Model 3"
   ]
  },
  {
   "cell_type": "code",
   "execution_count": 150,
   "metadata": {},
   "outputs": [
    {
     "name": "stdout",
     "output_type": "stream",
     "text": [
      "Optimization terminated successfully.\n",
      "         Current function value: 0.946736\n",
      "         Iterations 6\n"
     ]
    }
   ],
   "source": [
    "model = mnlogit('GT_Category_mapped ~ BMPHT_z_score+HSAGEIR+parental_diabetes+physical_activity+education_12_years+income_20000_or_more+smoking_hist+MAPF2+PBF+PBF*Sex',data=ogtt_df).fit()"
   ]
  },
  {
   "cell_type": "markdown",
   "metadata": {},
   "source": [
    "### IGT"
   ]
  },
  {
   "cell_type": "code",
   "execution_count": 151,
   "metadata": {},
   "outputs": [
    {
     "name": "stdout",
     "output_type": "stream",
     "text": [
      "1.09 (1.02-1.16)\n"
     ]
    }
   ],
   "source": [
    "coef = model.params[0]['BMPHT_z_score']\n",
    "BMPHT_IGT_Model3_effect = np.exp(coef*(-std_dev))\n",
    "\n",
    "ci_df = model.conf_int().reset_index()\n",
    "\n",
    "BMPHT_IGT_Model3_upper = np.exp(ci_df.loc[(ci_df['GT_Category_mapped'] == '2') & (ci_df['level_1'] == 'BMPHT_z_score'), 'upper'].values[0] * (-std_dev))\n",
    "BMPHT_IGT_Model3_lower = np.exp(ci_df.loc[(ci_df['GT_Category_mapped'] == '2') & (ci_df['level_1'] == 'BMPHT_z_score'), 'lower'].values[0] * (-std_dev))\n",
    "\n",
    "height_IGT_model3 = f\"{abs(BMPHT_IGT_Model3_effect):.2f} ({BMPHT_IGT_Model3_upper:.2f}-{BMPHT_IGT_Model3_lower:.2f})\"\n",
    "print(height_IGT_model3)"
   ]
  },
  {
   "cell_type": "markdown",
   "metadata": {},
   "source": [
    "### Diabetes"
   ]
  },
  {
   "cell_type": "code",
   "execution_count": 152,
   "metadata": {},
   "outputs": [
    {
     "name": "stdout",
     "output_type": "stream",
     "text": [
      "1.05 (0.97-1.13)\n"
     ]
    }
   ],
   "source": [
    "coef = model.params[1]['BMPHT_z_score']\n",
    "BMPHT_Diabetes_Model3_effect = np.exp(coef*(-std_dev))\n",
    "\n",
    "ci_df = model.conf_int().reset_index()\n",
    "\n",
    "BMPHT_Diabetes_Model3_upper = np.exp(ci_df.loc[(ci_df['GT_Category_mapped'] == '3') & (ci_df['level_1'] == 'BMPHT_z_score'), 'upper'].values[0] * (-std_dev))\n",
    "BMPHT_Diabetes_Model3_lower = np.exp(ci_df.loc[(ci_df['GT_Category_mapped'] == '3') & (ci_df['level_1'] == 'BMPHT_z_score'), 'lower'].values[0] * (-std_dev))\n",
    "\n",
    "height_diabetes_model3 = f\"{abs(BMPHT_Diabetes_Model3_effect):.2f} ({BMPHT_Diabetes_Model3_upper:.2f}-{BMPHT_Diabetes_Model3_lower:.2f})\"\n",
    "print(height_diabetes_model3)"
   ]
  },
  {
   "cell_type": "markdown",
   "metadata": {},
   "source": [
    "## Leg Length"
   ]
  },
  {
   "cell_type": "code",
   "execution_count": 153,
   "metadata": {},
   "outputs": [],
   "source": [
    "std_dev = std_devs['leg_length_z_score']\n",
    "anthropometric_measures = [['leg_length_z_score',0],['leg_length_z_score',1]]"
   ]
  },
  {
   "cell_type": "markdown",
   "metadata": {},
   "source": [
    "## Model 1"
   ]
  },
  {
   "cell_type": "code",
   "execution_count": 154,
   "metadata": {},
   "outputs": [
    {
     "name": "stdout",
     "output_type": "stream",
     "text": [
      "Optimization terminated successfully.\n",
      "         Current function value: 0.987197\n",
      "         Iterations 5\n"
     ]
    }
   ],
   "source": [
    "model = mnlogit('GT_Category_mapped ~ leg_length_z_score+HSAGEIR',data=ogtt_df).fit()"
   ]
  },
  {
   "cell_type": "markdown",
   "metadata": {},
   "source": [
    "### IGT"
   ]
  },
  {
   "cell_type": "code",
   "execution_count": 155,
   "metadata": {},
   "outputs": [
    {
     "name": "stdout",
     "output_type": "stream",
     "text": [
      "1.10 (1.03-1.17)\n"
     ]
    }
   ],
   "source": [
    "coef = model.params[0]['leg_length_z_score']\n",
    "leg_length_IGT_Model1_effect = np.exp(coef*(-std_dev))\n",
    "\n",
    "ci_df = model.conf_int().reset_index()\n",
    "\n",
    "leg_length_IGT_Model1_upper = np.exp(ci_df.loc[(ci_df['GT_Category_mapped'] == '2') & (ci_df['level_1'] == 'leg_length_z_score'), 'upper'].values[0] * (-std_dev))\n",
    "leg_length_IGT_Model1_lower = np.exp(ci_df.loc[(ci_df['GT_Category_mapped'] == '2') & (ci_df['level_1'] == 'leg_length_z_score'), 'lower'].values[0] * (-std_dev))\n",
    "\n",
    "leg_length_IGT_model1 = f\"{abs(leg_length_IGT_Model1_effect):.2f} ({leg_length_IGT_Model1_upper:.2f}-{leg_length_IGT_Model1_lower:.2f})\"\n",
    "print(leg_length_IGT_model1)"
   ]
  },
  {
   "cell_type": "markdown",
   "metadata": {},
   "source": [
    "### Diabetes"
   ]
  },
  {
   "cell_type": "code",
   "execution_count": 156,
   "metadata": {},
   "outputs": [
    {
     "name": "stdout",
     "output_type": "stream",
     "text": [
      "1.17 (1.09-1.25)\n"
     ]
    }
   ],
   "source": [
    "coef = model.params[1]['leg_length_z_score']\n",
    "leg_length_Diabetes_Model1_effect = np.exp(coef*(-std_dev))\n",
    "\n",
    "ci_df = model.conf_int().reset_index()\n",
    "\n",
    "leg_length_Diabetes_Model1_upper = np.exp(ci_df.loc[(ci_df['GT_Category_mapped'] == '3') & (ci_df['level_1'] == 'leg_length_z_score'), 'upper'].values[0] * (-std_dev))\n",
    "leg_length_Diabetes_Model1_lower = np.exp(ci_df.loc[(ci_df['GT_Category_mapped'] == '3') & (ci_df['level_1'] == 'leg_length_z_score'), 'lower'].values[0] * (-std_dev))\n",
    "\n",
    "leg_length_diabetes_model1 = f\"{abs(leg_length_Diabetes_Model1_effect):.2f} ({leg_length_Diabetes_Model1_upper:.2f}-{leg_length_Diabetes_Model1_lower:.2f})\"\n",
    "print(leg_length_diabetes_model1)"
   ]
  },
  {
   "cell_type": "markdown",
   "metadata": {},
   "source": [
    "## Model 2"
   ]
  },
  {
   "cell_type": "code",
   "execution_count": 157,
   "metadata": {},
   "outputs": [
    {
     "name": "stdout",
     "output_type": "stream",
     "text": [
      "Optimization terminated successfully.\n",
      "         Current function value: 0.954904\n",
      "         Iterations 6\n"
     ]
    }
   ],
   "source": [
    "model = mnlogit('GT_Category_mapped ~ leg_length_z_score+HSAGEIR+parental_diabetes+physical_activity+education_12_years+income_20000_or_more+smoking_hist+MAPF2',data=ogtt_df).fit()"
   ]
  },
  {
   "cell_type": "markdown",
   "metadata": {},
   "source": [
    "### IGT"
   ]
  },
  {
   "cell_type": "code",
   "execution_count": 158,
   "metadata": {},
   "outputs": [
    {
     "name": "stdout",
     "output_type": "stream",
     "text": [
      "1.08 (1.01-1.15)\n"
     ]
    }
   ],
   "source": [
    "coef = model.params[0]['leg_length_z_score']\n",
    "leg_length_IGT_Model2_effect = np.exp(coef*(-std_dev))\n",
    "\n",
    "ci_df = model.conf_int().reset_index()\n",
    "\n",
    "leg_length_IGT_Model2_upper = np.exp(ci_df.loc[(ci_df['GT_Category_mapped'] == '2') & (ci_df['level_1'] == 'leg_length_z_score'), 'upper'].values[0] * (-std_dev))\n",
    "leg_length_IGT_Model2_lower = np.exp(ci_df.loc[(ci_df['GT_Category_mapped'] == '2') & (ci_df['level_1'] == 'leg_length_z_score'), 'lower'].values[0] * (-std_dev))\n",
    "\n",
    "leg_length_IGT_model2 = f\"{abs(leg_length_IGT_Model2_effect):.2f} ({leg_length_IGT_Model2_upper:.2f}-{leg_length_IGT_Model2_lower:.2f})\"\n",
    "print(leg_length_IGT_model2)"
   ]
  },
  {
   "cell_type": "markdown",
   "metadata": {},
   "source": [
    "### Diabetes"
   ]
  },
  {
   "cell_type": "code",
   "execution_count": 159,
   "metadata": {},
   "outputs": [
    {
     "name": "stdout",
     "output_type": "stream",
     "text": [
      "1.17 (1.05-1.21)\n"
     ]
    }
   ],
   "source": [
    "coef = model.params[1]['leg_length_z_score']\n",
    "leg_length_Diabetes_Model2_effect = np.exp(coef*(-std_dev))\n",
    "\n",
    "ci_df = model.conf_int().reset_index()\n",
    "\n",
    "leg_length_Diabetes_Model2_upper = np.exp(ci_df.loc[(ci_df['GT_Category_mapped'] == '3') & (ci_df['level_1'] == 'leg_length_z_score'), 'upper'].values[0] * (-std_dev))\n",
    "leg_length_Diabetes_Model2_lower = np.exp(ci_df.loc[(ci_df['GT_Category_mapped'] == '3') & (ci_df['level_1'] == 'leg_length_z_score'), 'lower'].values[0] * (-std_dev))\n",
    "\n",
    "leg_length_Diabetes_Model2 = f\"{abs(leg_length_Diabetes_Model1_effect):.2f} ({leg_length_Diabetes_Model2_upper:.2f}-{leg_length_Diabetes_Model2_lower:.2f})\"\n",
    "print(leg_length_Diabetes_Model2)"
   ]
  },
  {
   "cell_type": "markdown",
   "metadata": {},
   "source": [
    "## Model 3"
   ]
  },
  {
   "cell_type": "code",
   "execution_count": 160,
   "metadata": {},
   "outputs": [
    {
     "name": "stdout",
     "output_type": "stream",
     "text": [
      "Optimization terminated successfully.\n",
      "         Current function value: 0.946548\n",
      "         Iterations 6\n"
     ]
    }
   ],
   "source": [
    "model = mnlogit('GT_Category_mapped ~ leg_length_z_score+HSAGEIR+parental_diabetes+physical_activity+education_12_years+income_20000_or_more+smoking_hist+MAPF2+PBF+PBF*Sex',data=ogtt_df).fit()"
   ]
  },
  {
   "cell_type": "markdown",
   "metadata": {},
   "source": [
    "### IGT"
   ]
  },
  {
   "cell_type": "code",
   "execution_count": 161,
   "metadata": {},
   "outputs": [
    {
     "name": "stdout",
     "output_type": "stream",
     "text": [
      "1.07 (1.00-1.13)\n"
     ]
    }
   ],
   "source": [
    "coef = model.params[0]['leg_length_z_score']\n",
    "leg_length_IGT_Model3_effect = np.exp(coef*(-std_dev))\n",
    "\n",
    "ci_df = model.conf_int().reset_index()\n",
    "\n",
    "leg_length_IGT_Model3_upper = np.exp(ci_df.loc[(ci_df['GT_Category_mapped'] == '2') & (ci_df['level_1'] == 'leg_length_z_score'), 'upper'].values[0] * (-std_dev))\n",
    "leg_length_IGT_Model3_lower = np.exp(ci_df.loc[(ci_df['GT_Category_mapped'] == '2') & (ci_df['level_1'] == 'leg_length_z_score'), 'lower'].values[0] * (-std_dev))\n",
    "\n",
    "leg_length_IGT_model3 = f\"{abs(leg_length_IGT_Model3_effect):.2f} ({leg_length_IGT_Model3_upper:.2f}-{leg_length_IGT_Model3_lower:.2f})\"\n",
    "print(leg_length_IGT_model3)"
   ]
  },
  {
   "cell_type": "markdown",
   "metadata": {},
   "source": [
    "### Diabetes"
   ]
  },
  {
   "cell_type": "code",
   "execution_count": 162,
   "metadata": {},
   "outputs": [
    {
     "name": "stdout",
     "output_type": "stream",
     "text": [
      "1.11 (1.03-1.20)\n"
     ]
    }
   ],
   "source": [
    "coef = model.params[1]['leg_length_z_score']\n",
    "leg_length_Diabetes_Model3_effect = np.exp(coef*(-std_dev))\n",
    "\n",
    "ci_df = model.conf_int().reset_index()\n",
    "\n",
    "leg_length_Diabetes_Model3_upper = np.exp(ci_df.loc[(ci_df['GT_Category_mapped'] == '3') & (ci_df['level_1'] == 'leg_length_z_score'), 'upper'].values[0] * (-std_dev))\n",
    "leg_length_Diabetes_Model3_lower = np.exp(ci_df.loc[(ci_df['GT_Category_mapped'] == '3') & (ci_df['level_1'] == 'leg_length_z_score'), 'lower'].values[0] * (-std_dev))\n",
    "\n",
    "leg_length_Diabetes_Model3 = f\"{abs(leg_length_Diabetes_Model3_effect):.2f} ({leg_length_Diabetes_Model3_upper:.2f}-{leg_length_Diabetes_Model3_lower:.2f})\"\n",
    "print(leg_length_Diabetes_Model3)"
   ]
  },
  {
   "cell_type": "markdown",
   "metadata": {},
   "source": [
    "## Leg Length to height ratio"
   ]
  },
  {
   "cell_type": "code",
   "execution_count": 163,
   "metadata": {},
   "outputs": [],
   "source": [
    "std_dev = std_devs['leg_length_to_height_ratio_z_score']\n",
    "anthropometric_measures = [['leg_length_to_height_ratio_z_score',0],['leg_length_to_height_ratio_z_score',1]]"
   ]
  },
  {
   "cell_type": "markdown",
   "metadata": {},
   "source": [
    "## Model 1"
   ]
  },
  {
   "cell_type": "code",
   "execution_count": 164,
   "metadata": {},
   "outputs": [
    {
     "name": "stdout",
     "output_type": "stream",
     "text": [
      "Optimization terminated successfully.\n",
      "         Current function value: 0.987131\n",
      "         Iterations 5\n"
     ]
    }
   ],
   "source": [
    "model = mnlogit('GT_Category_mapped ~ leg_length_to_height_ratio_z_score+HSAGEIR',data=ogtt_df).fit()"
   ]
  },
  {
   "cell_type": "markdown",
   "metadata": {},
   "source": [
    "### IGT"
   ]
  },
  {
   "cell_type": "code",
   "execution_count": 165,
   "metadata": {},
   "outputs": [
    {
     "name": "stdout",
     "output_type": "stream",
     "text": [
      "1.07 (1.00-1.13)\n"
     ]
    }
   ],
   "source": [
    "coef = model.params[0]['leg_length_to_height_ratio_z_score']\n",
    "ratio_IGT_Model1_effect = np.exp(coef*(-std_dev))\n",
    "\n",
    "ci_df = model.conf_int().reset_index()\n",
    "\n",
    "ratio_IGT_Model1_upper = np.exp(ci_df.loc[(ci_df['GT_Category_mapped'] == '2') & (ci_df['level_1'] == 'leg_length_to_height_ratio_z_score'), 'upper'].values[0] * (-std_dev))\n",
    "ratio_IGT_Model1_lower = np.exp(ci_df.loc[(ci_df['GT_Category_mapped'] == '2') & (ci_df['level_1'] == 'leg_length_to_height_ratio_z_score'), 'lower'].values[0] * (-std_dev))\n",
    "\n",
    "ratio_IGT_model1 = f\"{abs(ratio_IGT_Model1_effect):.2f} ({ratio_IGT_Model1_upper:.2f}-{ratio_IGT_Model1_lower:.2f})\"\n",
    "print(ratio_IGT_model1)"
   ]
  },
  {
   "cell_type": "markdown",
   "metadata": {},
   "source": [
    "### Diabetes"
   ]
  },
  {
   "cell_type": "code",
   "execution_count": 166,
   "metadata": {},
   "outputs": [
    {
     "name": "stdout",
     "output_type": "stream",
     "text": [
      "1.18 (1.10-1.27)\n"
     ]
    }
   ],
   "source": [
    "coef = model.params[1]['leg_length_to_height_ratio_z_score']\n",
    "ratio_Diabetes_Model1_effect = np.exp(coef*(-std_dev))\n",
    "\n",
    "ci_df = model.conf_int().reset_index()\n",
    "\n",
    "ratio_Diabetes_Model1_upper = np.exp(ci_df.loc[(ci_df['GT_Category_mapped'] == '3') & (ci_df['level_1'] == 'leg_length_to_height_ratio_z_score'), 'upper'].values[0] * (-std_dev))\n",
    "ratio_Diabetes_Model1_lower = np.exp(ci_df.loc[(ci_df['GT_Category_mapped'] == '3') & (ci_df['level_1'] == 'leg_length_to_height_ratio_z_score'), 'lower'].values[0] * (-std_dev))\n",
    "\n",
    "ratio_Diabetes_Model1 = f\"{abs(ratio_Diabetes_Model1_effect):.2f} ({ratio_Diabetes_Model1_upper:.2f}-{ratio_Diabetes_Model1_lower:.2f})\"\n",
    "print(ratio_Diabetes_Model1)"
   ]
  },
  {
   "cell_type": "markdown",
   "metadata": {},
   "source": [
    "## Model 2"
   ]
  },
  {
   "cell_type": "code",
   "execution_count": 167,
   "metadata": {},
   "outputs": [
    {
     "name": "stdout",
     "output_type": "stream",
     "text": [
      "Optimization terminated successfully.\n",
      "         Current function value: 0.954454\n",
      "         Iterations 6\n"
     ]
    }
   ],
   "source": [
    "model = mnlogit('GT_Category_mapped ~ leg_length_to_height_ratio_z_score+HSAGEIR+parental_diabetes+physical_activity+education_12_years+income_20000_or_more+smoking_hist+MAPF2',data=ogtt_df).fit()"
   ]
  },
  {
   "cell_type": "markdown",
   "metadata": {},
   "source": [
    "### IGT"
   ]
  },
  {
   "cell_type": "code",
   "execution_count": 168,
   "metadata": {},
   "outputs": [
    {
     "name": "stdout",
     "output_type": "stream",
     "text": [
      "1.06 (0.99-1.12)\n"
     ]
    }
   ],
   "source": [
    "coef = model.params[0]['leg_length_to_height_ratio_z_score']\n",
    "ratio_IGT_Model2_effect = np.exp(coef*(-std_dev))\n",
    "\n",
    "ci_df = model.conf_int().reset_index()\n",
    "\n",
    "ratio_IGT_Model2_upper = np.exp(ci_df.loc[(ci_df['GT_Category_mapped'] == '2') & (ci_df['level_1'] == 'leg_length_to_height_ratio_z_score'), 'upper'].values[0] * (-std_dev))\n",
    "ratio_IGT_Model2_lower = np.exp(ci_df.loc[(ci_df['GT_Category_mapped'] == '2') & (ci_df['level_1'] == 'leg_length_to_height_ratio_z_score'), 'lower'].values[0] * (-std_dev))\n",
    "\n",
    "ratio_IGT_model2 = f\"{abs(ratio_IGT_Model2_effect):.2f} ({ratio_IGT_Model2_upper:.2f}-{ratio_IGT_Model2_lower:.2f})\"\n",
    "print(ratio_IGT_model2)"
   ]
  },
  {
   "cell_type": "markdown",
   "metadata": {},
   "source": [
    "### Diabetes"
   ]
  },
  {
   "cell_type": "code",
   "execution_count": 169,
   "metadata": {},
   "outputs": [
    {
     "name": "stdout",
     "output_type": "stream",
     "text": [
      "1.17 (1.09-1.26)\n"
     ]
    }
   ],
   "source": [
    "coef = model.params[1]['leg_length_to_height_ratio_z_score']\n",
    "ratio_Diabetes_Model2_effect = np.exp(coef*(-std_dev))\n",
    "\n",
    "ci_df = model.conf_int().reset_index()\n",
    "\n",
    "ratio_Diabetes_Model2_upper = np.exp(ci_df.loc[(ci_df['GT_Category_mapped'] == '3') & (ci_df['level_1'] == 'leg_length_to_height_ratio_z_score'), 'upper'].values[0] * (-std_dev))\n",
    "ratio_Diabetes_Model2_lower = np.exp(ci_df.loc[(ci_df['GT_Category_mapped'] == '3') & (ci_df['level_1'] == 'leg_length_to_height_ratio_z_score'), 'lower'].values[0] * (-std_dev))\n",
    "\n",
    "ratio_Diabetes_Model2 = f\"{abs(ratio_Diabetes_Model2_effect):.2f} ({ratio_Diabetes_Model2_upper:.2f}-{ratio_Diabetes_Model2_lower:.2f})\"\n",
    "print(ratio_Diabetes_Model2)"
   ]
  },
  {
   "cell_type": "markdown",
   "metadata": {},
   "source": [
    "## Model 3"
   ]
  },
  {
   "cell_type": "code",
   "execution_count": 170,
   "metadata": {},
   "outputs": [
    {
     "name": "stdout",
     "output_type": "stream",
     "text": [
      "Optimization terminated successfully.\n",
      "         Current function value: 0.946122\n",
      "         Iterations 6\n"
     ]
    }
   ],
   "source": [
    "model = mnlogit('GT_Category_mapped ~ leg_length_to_height_ratio_z_score+HSAGEIR+parental_diabetes+physical_activity+education_12_years+income_20000_or_more+smoking_hist+MAPF2+PBF+PBF*Sex',data=ogtt_df).fit()"
   ]
  },
  {
   "cell_type": "markdown",
   "metadata": {},
   "source": [
    "### IGT"
   ]
  },
  {
   "cell_type": "code",
   "execution_count": 171,
   "metadata": {},
   "outputs": [
    {
     "name": "stdout",
     "output_type": "stream",
     "text": [
      "1.05 (0.98-1.11)\n"
     ]
    }
   ],
   "source": [
    "coef = model.params[0]['leg_length_to_height_ratio_z_score']\n",
    "ratio_IGT_Model3_effect = np.exp(coef*(-std_dev))\n",
    "\n",
    "ci_df = model.conf_int().reset_index()\n",
    "\n",
    "ratio_IGT_Model3_upper = np.exp(ci_df.loc[(ci_df['GT_Category_mapped'] == '2') & (ci_df['level_1'] == 'leg_length_to_height_ratio_z_score'), 'upper'].values[0] * (-std_dev))\n",
    "ratio_IGT_Model3_lower = np.exp(ci_df.loc[(ci_df['GT_Category_mapped'] == '2') & (ci_df['level_1'] == 'leg_length_to_height_ratio_z_score'), 'lower'].values[0] * (-std_dev))\n",
    "\n",
    "ratio_IGT_model3 = f\"{abs(ratio_IGT_Model3_effect):.2f} ({ratio_IGT_Model3_upper:.2f}-{ratio_IGT_Model3_lower:.2f})\"\n",
    "print(ratio_IGT_model3)"
   ]
  },
  {
   "cell_type": "markdown",
   "metadata": {},
   "source": [
    "### Diabetes"
   ]
  },
  {
   "cell_type": "code",
   "execution_count": 172,
   "metadata": {},
   "outputs": [
    {
     "name": "stdout",
     "output_type": "stream",
     "text": [
      "1.15 (1.07-1.24)\n"
     ]
    }
   ],
   "source": [
    "coef = model.params[1]['leg_length_to_height_ratio_z_score']\n",
    "ratio_Diabetes_Model3_effect = np.exp(coef*(-std_dev))\n",
    "\n",
    "ci_df = model.conf_int().reset_index()\n",
    "\n",
    "ratio_Diabetes_Model3_upper = np.exp(ci_df.loc[(ci_df['GT_Category_mapped'] == '3') & (ci_df['level_1'] == 'leg_length_to_height_ratio_z_score'), 'upper'].values[0] * (-std_dev))\n",
    "ratio_Diabetes_Model3_lower = np.exp(ci_df.loc[(ci_df['GT_Category_mapped'] == '3') & (ci_df['level_1'] == 'leg_length_to_height_ratio_z_score'), 'lower'].values[0] * (-std_dev))\n",
    "\n",
    "ratio_Diabetes_Model3 = f\"{abs(ratio_Diabetes_Model3_effect):.2f} ({ratio_Diabetes_Model3_upper:.2f}-{ratio_Diabetes_Model3_lower:.2f})\"\n",
    "print(ratio_Diabetes_Model3)"
   ]
  },
  {
   "cell_type": "markdown",
   "metadata": {},
   "source": [
    "# Final Table"
   ]
  },
  {
   "cell_type": "code",
   "execution_count": 173,
   "metadata": {},
   "outputs": [],
   "source": [
    "data = {\n",
    "    'Male': [height_male_model1, height_male_model2, '-', leg_length_male_model1, leg_length_male_model2, '-', ratio_male_model1, ratio_male_model2, '-'],\n",
    "    'Female': [height_female_model1, height_female_model2, '-', leg_length_female_model1, leg_length_female_model2, '-', ratio_female_model1, ratio_female_model2, '-'],\n",
    "    'HOMA_IR': [height_HOMA_model1, height_HOMA_model2, height_HOMA_model3, leg_length_HOMA_model1, leg_length_HOMA_model2, leg_length_HOMA_model3, ratio_HOMA_model1, ratio_HOMA_model2, ratio_HOMA_model3],\n",
    "    'IGT': [height_IGT_model1, height_IGT_model2, height_IGT_model3, leg_length_IGT_model1, leg_length_IGT_model2, leg_length_IGT_model3, ratio_IGT_model1, ratio_IGT_model2, ratio_IGT_model3],\n",
    "    'Diabetes': [height_diabetes_model1, height_diabetes_model2, height_diabetes_model3, leg_length_diabetes_model1, leg_length_Diabetes_Model2, leg_length_Diabetes_Model3, ratio_Diabetes_Model1, ratio_Diabetes_Model2, ratio_Diabetes_Model3]\n",
    "}"
   ]
  },
  {
   "cell_type": "code",
   "execution_count": 174,
   "metadata": {},
   "outputs": [
    {
     "data": {
      "text/html": [
       "<div>\n",
       "<style scoped>\n",
       "    .dataframe tbody tr th:only-of-type {\n",
       "        vertical-align: middle;\n",
       "    }\n",
       "\n",
       "    .dataframe tbody tr th {\n",
       "        vertical-align: top;\n",
       "    }\n",
       "\n",
       "    .dataframe thead th {\n",
       "        text-align: right;\n",
       "    }\n",
       "</style>\n",
       "<table border=\"1\" class=\"dataframe\">\n",
       "  <thead>\n",
       "    <tr style=\"text-align: right;\">\n",
       "      <th></th>\n",
       "      <th>Male</th>\n",
       "      <th>Female</th>\n",
       "      <th>HOMA_IR</th>\n",
       "      <th>IGT</th>\n",
       "      <th>Diabetes</th>\n",
       "    </tr>\n",
       "  </thead>\n",
       "  <tbody>\n",
       "    <tr>\n",
       "      <th>0</th>\n",
       "      <td>+0.18 (-0.02-0.38)</td>\n",
       "      <td>+0.80 (0.42-1.17)</td>\n",
       "      <td>1.00 (0.98-1.01)</td>\n",
       "      <td>1.12 (1.05-1.19)</td>\n",
       "      <td>1.10 (1.03-1.18)</td>\n",
       "    </tr>\n",
       "    <tr>\n",
       "      <th>1</th>\n",
       "      <td>+0.15 (-0.05-0.35)</td>\n",
       "      <td>+0.60 (0.23-0.97)</td>\n",
       "      <td>0.99 (0.98-1.01)</td>\n",
       "      <td>1.10 (1.03-1.17)</td>\n",
       "      <td>1.06 (0.98-1.14)</td>\n",
       "    </tr>\n",
       "    <tr>\n",
       "      <th>2</th>\n",
       "      <td>-</td>\n",
       "      <td>-</td>\n",
       "      <td>0.98 (0.97-0.99)</td>\n",
       "      <td>1.09 (1.02-1.16)</td>\n",
       "      <td>1.05 (0.97-1.13)</td>\n",
       "    </tr>\n",
       "    <tr>\n",
       "      <th>3</th>\n",
       "      <td>+0.17 (-0.03-0.37)</td>\n",
       "      <td>+1.08 (0.71-1.45)</td>\n",
       "      <td>1.02 (1.01-1.04)</td>\n",
       "      <td>1.10 (1.03-1.17)</td>\n",
       "      <td>1.17 (1.09-1.25)</td>\n",
       "    </tr>\n",
       "    <tr>\n",
       "      <th>4</th>\n",
       "      <td>+0.13 (-0.07-0.33)</td>\n",
       "      <td>+0.86 (0.49-1.23)</td>\n",
       "      <td>1.02 (1.00-1.03)</td>\n",
       "      <td>1.08 (1.01-1.15)</td>\n",
       "      <td>1.17 (1.05-1.21)</td>\n",
       "    </tr>\n",
       "    <tr>\n",
       "      <th>5</th>\n",
       "      <td>-</td>\n",
       "      <td>-</td>\n",
       "      <td>1.00 (0.99-1.01)</td>\n",
       "      <td>1.07 (1.00-1.13)</td>\n",
       "      <td>1.11 (1.03-1.20)</td>\n",
       "    </tr>\n",
       "    <tr>\n",
       "      <th>6</th>\n",
       "      <td>+0.24 (0.04-0.44)</td>\n",
       "      <td>+1.11 (0.77-1.45)</td>\n",
       "      <td>1.06 (1.04-1.07)</td>\n",
       "      <td>1.07 (1.00-1.13)</td>\n",
       "      <td>1.18 (1.10-1.27)</td>\n",
       "    </tr>\n",
       "    <tr>\n",
       "      <th>7</th>\n",
       "      <td>+0.20 (0.00-0.40)</td>\n",
       "      <td>+0.98 (0.64-1.32)</td>\n",
       "      <td>1.05 (1.04-1.07)</td>\n",
       "      <td>1.06 (0.99-1.12)</td>\n",
       "      <td>1.17 (1.09-1.26)</td>\n",
       "    </tr>\n",
       "    <tr>\n",
       "      <th>8</th>\n",
       "      <td>-</td>\n",
       "      <td>-</td>\n",
       "      <td>1.04 (1.02-1.05)</td>\n",
       "      <td>1.05 (0.98-1.11)</td>\n",
       "      <td>1.15 (1.07-1.24)</td>\n",
       "    </tr>\n",
       "  </tbody>\n",
       "</table>\n",
       "</div>"
      ],
      "text/plain": [
       "                 Male             Female           HOMA_IR               IGT  \\\n",
       "0  +0.18 (-0.02-0.38)  +0.80 (0.42-1.17)  1.00 (0.98-1.01)  1.12 (1.05-1.19)   \n",
       "1  +0.15 (-0.05-0.35)  +0.60 (0.23-0.97)  0.99 (0.98-1.01)  1.10 (1.03-1.17)   \n",
       "2                   -                  -  0.98 (0.97-0.99)  1.09 (1.02-1.16)   \n",
       "3  +0.17 (-0.03-0.37)  +1.08 (0.71-1.45)  1.02 (1.01-1.04)  1.10 (1.03-1.17)   \n",
       "4  +0.13 (-0.07-0.33)  +0.86 (0.49-1.23)  1.02 (1.00-1.03)  1.08 (1.01-1.15)   \n",
       "5                   -                  -  1.00 (0.99-1.01)  1.07 (1.00-1.13)   \n",
       "6   +0.24 (0.04-0.44)  +1.11 (0.77-1.45)  1.06 (1.04-1.07)  1.07 (1.00-1.13)   \n",
       "7   +0.20 (0.00-0.40)  +0.98 (0.64-1.32)  1.05 (1.04-1.07)  1.06 (0.99-1.12)   \n",
       "8                   -                  -  1.04 (1.02-1.05)  1.05 (0.98-1.11)   \n",
       "\n",
       "           Diabetes  \n",
       "0  1.10 (1.03-1.18)  \n",
       "1  1.06 (0.98-1.14)  \n",
       "2  1.05 (0.97-1.13)  \n",
       "3  1.17 (1.09-1.25)  \n",
       "4  1.17 (1.05-1.21)  \n",
       "5  1.11 (1.03-1.20)  \n",
       "6  1.18 (1.10-1.27)  \n",
       "7  1.17 (1.09-1.26)  \n",
       "8  1.15 (1.07-1.24)  "
      ]
     },
     "execution_count": 174,
     "metadata": {},
     "output_type": "execute_result"
    }
   ],
   "source": [
    "df = pd.DataFrame(data)\n",
    "df"
   ]
  },
  {
   "cell_type": "code",
   "execution_count": 175,
   "metadata": {},
   "outputs": [],
   "source": [
    "df.to_csv('FINAL_TABLE.csv')"
   ]
  }
 ],
 "metadata": {
  "kernelspec": {
   "display_name": "Python 3",
   "language": "python",
   "name": "python3"
  },
  "language_info": {
   "codemirror_mode": {
    "name": "ipython",
    "version": 3
   },
   "file_extension": ".py",
   "mimetype": "text/x-python",
   "name": "python",
   "nbconvert_exporter": "python",
   "pygments_lexer": "ipython3",
   "version": "3.11.5"
  }
 },
 "nbformat": 4,
 "nbformat_minor": 2
}
